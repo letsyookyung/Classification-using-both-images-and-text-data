{
  "nbformat": 4,
  "nbformat_minor": 0,
  "metadata": {
    "colab": {
      "name": "2. Text_n_image_model.ipynb",
      "provenance": [],
      "collapsed_sections": []
    },
    "kernelspec": {
      "name": "python3",
      "display_name": "Python 3"
    },
    "accelerator": "GPU"
  },
  "cells": [
    {
      "cell_type": "code",
      "metadata": {
        "id": "fUSg86dez78S",
        "colab_type": "code",
        "outputId": "11f6cb37-a2bd-4aa2-a823-7edd56a00ac8",
        "colab": {
          "base_uri": "https://localhost:8080/",
          "height": 126
        }
      },
      "source": [
        "from google.colab import drive\n",
        "drive.mount('/content/drive')"
      ],
      "execution_count": 0,
      "outputs": [
        {
          "output_type": "stream",
          "text": [
            "Go to this URL in a browser: https://accounts.google.com/o/oauth2/auth?client_id=947318989803-6bn6qk8qdgf4n4g3pfee6491hc0brc4i.apps.googleusercontent.com&redirect_uri=urn%3aietf%3awg%3aoauth%3a2.0%3aoob&response_type=code&scope=email%20https%3a%2f%2fwww.googleapis.com%2fauth%2fdocs.test%20https%3a%2f%2fwww.googleapis.com%2fauth%2fdrive%20https%3a%2f%2fwww.googleapis.com%2fauth%2fdrive.photos.readonly%20https%3a%2f%2fwww.googleapis.com%2fauth%2fpeopleapi.readonly\n",
            "\n",
            "Enter your authorization code:\n",
            "··········\n",
            "Mounted at /content/drive\n"
          ],
          "name": "stdout"
        }
      ]
    },
    {
      "cell_type": "code",
      "metadata": {
        "id": "aQ2G2iD68K8X",
        "colab_type": "code",
        "colab": {}
      },
      "source": [
        "import sklearn\n",
        "import tensorflow as tf\n",
        "from tensorflow import keras\n",
        "import matplotlib as mpl\n",
        "import matplotlib.pyplot as plt\n",
        "import pandas as pd\n",
        "import numpy as np\n",
        "import os\n",
        "from sklearn.model_selection import train_test_split"
      ],
      "execution_count": 0,
      "outputs": []
    },
    {
      "cell_type": "code",
      "metadata": {
        "id": "DkDRMtrRhODx",
        "colab_type": "code",
        "colab": {}
      },
      "source": [
        "# import numpy as np\n",
        "# np.set_printoptions(threshold=np.inf)\n",
        "# print((features_vgg_train[0]))"
      ],
      "execution_count": 0,
      "outputs": []
    },
    {
      "cell_type": "code",
      "metadata": {
        "id": "F5vGCAwdEYC_",
        "colab_type": "code",
        "outputId": "d9c5d7b4-d022-4d47-ced7-3577809822d8",
        "colab": {
          "base_uri": "https://localhost:8080/",
          "height": 35
        }
      },
      "source": [
        "df = pd.read_csv(\"/content/drive/My Drive/youtube_project/real_train.csv\", encoding='utf-8-sig')\n",
        "y = df['category_id']\n",
        "y = np.array(y)\n",
        "y.shape"
      ],
      "execution_count": 0,
      "outputs": [
        {
          "output_type": "execute_result",
          "data": {
            "text/plain": [
              "(11199,)"
            ]
          },
          "metadata": {
            "tags": []
          },
          "execution_count": 3
        }
      ]
    },
    {
      "cell_type": "code",
      "metadata": {
        "id": "mkJERiuiGdYW",
        "colab_type": "code",
        "outputId": "93f2ddb0-61e3-4a83-adf6-585c03b9be13",
        "colab": {
          "base_uri": "https://localhost:8080/",
          "height": 35
        }
      },
      "source": [
        "features_vgg_train = np.load('/content/drive/My Drive/youtube_project/extract_features_transfer_train.npy')\n",
        "features_vgg_train.shape"
      ],
      "execution_count": 0,
      "outputs": [
        {
          "output_type": "execute_result",
          "data": {
            "text/plain": [
              "(11199, 5120)"
            ]
          },
          "metadata": {
            "tags": []
          },
          "execution_count": 4
        }
      ]
    },
    {
      "cell_type": "code",
      "metadata": {
        "id": "6LWRtv8I_sgA",
        "colab_type": "code",
        "outputId": "445c6648-d60e-4573-db71-57e60f4d3717",
        "colab": {
          "base_uri": "https://localhost:8080/",
          "height": 35
        }
      },
      "source": [
        "feature_fxt = np.load('/content/drive/My Drive/youtube_project/okt_fxt.npy')\n",
        "feature_fxt.shape"
      ],
      "execution_count": 0,
      "outputs": [
        {
          "output_type": "execute_result",
          "data": {
            "text/plain": [
              "(11199, 100)"
            ]
          },
          "metadata": {
            "tags": []
          },
          "execution_count": 5
        }
      ]
    },
    {
      "cell_type": "markdown",
      "metadata": {
        "id": "kVmD9-WSiMVx",
        "colab_type": "text"
      },
      "source": [
        "### Test_Data"
      ]
    },
    {
      "cell_type": "code",
      "metadata": {
        "id": "6mxlbzlqiQfd",
        "colab_type": "code",
        "outputId": "7fcb5e74-db50-4578-f3b3-11da0cd36c98",
        "colab": {
          "base_uri": "https://localhost:8080/",
          "height": 35
        }
      },
      "source": [
        "df2 = pd.read_csv(\"/content/drive/My Drive/youtube_project/real_test.csv\", encoding='utf-8-sig')\n",
        "y_test = df2['category_id']\n",
        "y_test = np.array(y_test)\n",
        "y_test.shape"
      ],
      "execution_count": 0,
      "outputs": [
        {
          "output_type": "execute_result",
          "data": {
            "text/plain": [
              "(2800,)"
            ]
          },
          "metadata": {
            "tags": []
          },
          "execution_count": 33
        }
      ]
    },
    {
      "cell_type": "code",
      "metadata": {
        "id": "DuR3PKRShYt1",
        "colab_type": "code",
        "outputId": "33e6d726-3e81-4eac-e64d-0c77fae6c8e1",
        "colab": {
          "base_uri": "https://localhost:8080/",
          "height": 35
        }
      },
      "source": [
        "features_vgg_test = np.load('/content/drive/My Drive/youtube_project/extract_features_transfer_test.npy')\n",
        "features_vgg_test.shape"
      ],
      "execution_count": 0,
      "outputs": [
        {
          "output_type": "execute_result",
          "data": {
            "text/plain": [
              "(2800, 5120)"
            ]
          },
          "metadata": {
            "tags": []
          },
          "execution_count": 27
        }
      ]
    },
    {
      "cell_type": "code",
      "metadata": {
        "id": "GhNr74v6hZUh",
        "colab_type": "code",
        "outputId": "406f81ae-e1eb-471f-cc9c-47e43b814049",
        "colab": {
          "base_uri": "https://localhost:8080/",
          "height": 35
        }
      },
      "source": [
        "feature_fxt_test = np.load('/content/drive/My Drive/youtube_project/okt_fxt_test.npy')\n",
        "feature_fxt_test.shape"
      ],
      "execution_count": 0,
      "outputs": [
        {
          "output_type": "execute_result",
          "data": {
            "text/plain": [
              "(2800, 100)"
            ]
          },
          "metadata": {
            "tags": []
          },
          "execution_count": 28
        }
      ]
    },
    {
      "cell_type": "markdown",
      "metadata": {
        "id": "jFN7HE9L_sv0",
        "colab_type": "text"
      },
      "source": [
        "### data split"
      ]
    },
    {
      "cell_type": "code",
      "metadata": {
        "id": "OxkICjX48cfU",
        "colab_type": "code",
        "colab": {}
      },
      "source": [
        "case1_data = np.c_[features_vgg_train,feature_fxt]\n",
        "nanmask = ~np.isnan(case1_data).any(axis=1)\n",
        "case1_nan = case1_data[nanmask]\n",
        "y_nan = y[nanmask]"
      ],
      "execution_count": 0,
      "outputs": []
    },
    {
      "cell_type": "code",
      "metadata": {
        "id": "QZ9IZA7chsR9",
        "colab_type": "code",
        "outputId": "5d0cf7b6-a1d0-419a-e235-dfa6ad701555",
        "colab": {
          "base_uri": "https://localhost:8080/",
          "height": 35
        }
      },
      "source": [
        "sum(~nanmask)"
      ],
      "execution_count": 0,
      "outputs": [
        {
          "output_type": "execute_result",
          "data": {
            "text/plain": [
              "36"
            ]
          },
          "metadata": {
            "tags": []
          },
          "execution_count": 29
        }
      ]
    },
    {
      "cell_type": "code",
      "metadata": {
        "id": "Y9pDhXm0-x7l",
        "colab_type": "code",
        "outputId": "b807aac7-c65b-444a-b591-2db7b9aa04b4",
        "colab": {
          "base_uri": "https://localhost:8080/",
          "height": 35
        }
      },
      "source": [
        "case1_nan.shape, y_nan.shape"
      ],
      "execution_count": 0,
      "outputs": [
        {
          "output_type": "execute_result",
          "data": {
            "text/plain": [
              "((11163, 5220), (11163,))"
            ]
          },
          "metadata": {
            "tags": []
          },
          "execution_count": 10
        }
      ]
    },
    {
      "cell_type": "code",
      "metadata": {
        "id": "2mOx7_ewdl4Z",
        "colab_type": "code",
        "colab": {}
      },
      "source": [
        "test_data = np.c_[features_vgg_test,feature_fxt_test]\n",
        "nanmask_test = ~np.isnan(test_data).any(axis=1)\n",
        "test_data_nan = test_data[nanmask_test]\n",
        "y_test_nan = y_test[nanmask_test]"
      ],
      "execution_count": 0,
      "outputs": []
    },
    {
      "cell_type": "code",
      "metadata": {
        "id": "TAisqtiIiERf",
        "colab_type": "code",
        "outputId": "b2a4b599-9350-4770-be40-7639ca917b09",
        "colab": {
          "base_uri": "https://localhost:8080/",
          "height": 35
        }
      },
      "source": [
        "test_data_nan.shape, y_test_nan.shape"
      ],
      "execution_count": 0,
      "outputs": [
        {
          "output_type": "execute_result",
          "data": {
            "text/plain": [
              "((2782, 5220), (2782,))"
            ]
          },
          "metadata": {
            "tags": []
          },
          "execution_count": 35
        }
      ]
    },
    {
      "cell_type": "markdown",
      "metadata": {
        "id": "ee7lXpkBtdTB",
        "colab_type": "text"
      },
      "source": [
        "# Train"
      ]
    },
    {
      "cell_type": "markdown",
      "metadata": {
        "id": "5BHi5gO4E6_V",
        "colab_type": "text"
      },
      "source": [
        "## 2. fxt + vgg"
      ]
    },
    {
      "cell_type": "code",
      "metadata": {
        "colab_type": "code",
        "id": "w9Qen2AgXtqX",
        "colab": {}
      },
      "source": [
        "model2 = keras.models.Sequential([\n",
        "    keras.layers.Flatten(input_shape=[5220]),\n",
        "    keras.layers.BatchNormalization(),\n",
        "    keras.layers.Dropout(rate=0.4),\n",
        "    keras.layers.Dense(1024, activation=\"relu\",\n",
        "                         kernel_regularizer = keras.regularizers.l2(0.01)),\n",
        "    keras.layers.BatchNormalization(),\n",
        "    keras.layers.Dense(100, activation=\"relu\",\n",
        "                         kernel_regularizer = keras.regularizers.l2(0.01)),\n",
        "    keras.layers.BatchNormalization(),\n",
        "    keras.layers.Dense(7, activation=\"softmax\")\n",
        "])\n",
        "\n",
        "model2.compile(loss=\"sparse_categorical_crossentropy\", optimizer=\"nadam\", metrics=[\"accuracy\"])"
      ],
      "execution_count": 0,
      "outputs": []
    },
    {
      "cell_type": "code",
      "metadata": {
        "id": "pyAYuvucIBWZ",
        "colab_type": "code",
        "outputId": "2b9d3b4a-b7fe-446d-fb59-d1e78fc4fb46",
        "colab": {
          "base_uri": "https://localhost:8080/",
          "height": 976
        }
      },
      "source": [
        "keras.utils.plot_model(model2, show_shapes=True)"
      ],
      "execution_count": 0,
      "outputs": [
        {
          "output_type": "execute_result",
          "data": {
            "image/png": "[encoded data removed]",
            "text/plain": [
              "<IPython.core.display.Image object>"
            ]
          },
          "metadata": {
            "tags": []
          },
          "execution_count": 20
        }
      ]
    },
    {
      "cell_type": "code",
      "metadata": {
        "colab_type": "code",
        "outputId": "65d49968-d158-4b6a-ec90-a66731ae2928",
        "id": "-5up-DVnXtqc",
        "colab": {
          "base_uri": "https://localhost:8080/",
          "height": 728
        }
      },
      "source": [
        "from sklearn.model_selection import train_test_split\n",
        "np.random.seed(42)\n",
        "X_train, X_valid, y_train, y_valid = train_test_split(case1_nan, y_nan)\n",
        "X_train.shape, X_valid.shape\n",
        "history2 = model2.fit(X_train, y_train, epochs=20, validation_data=(X_valid, y_valid))"
      ],
      "execution_count": 0,
      "outputs": [
        {
          "output_type": "stream",
          "text": [
            "Epoch 1/20\n",
            "262/262 [==============================] - 4s 14ms/step - loss: 0.6495 - accuracy: 0.8975 - val_loss: 0.8434 - val_accuracy: 0.8617\n",
            "Epoch 2/20\n",
            "262/262 [==============================] - 4s 14ms/step - loss: 0.6759 - accuracy: 0.8901 - val_loss: 0.7958 - val_accuracy: 0.8703\n",
            "Epoch 3/20\n",
            "262/262 [==============================] - 4s 14ms/step - loss: 0.6456 - accuracy: 0.8991 - val_loss: 0.7997 - val_accuracy: 0.8674\n",
            "Epoch 4/20\n",
            "262/262 [==============================] - 4s 14ms/step - loss: 0.6795 - accuracy: 0.8899 - val_loss: 0.8439 - val_accuracy: 0.8603\n",
            "Epoch 5/20\n",
            "262/262 [==============================] - 4s 14ms/step - loss: 0.6687 - accuracy: 0.8950 - val_loss: 0.8032 - val_accuracy: 0.8649\n",
            "Epoch 6/20\n",
            "262/262 [==============================] - 4s 14ms/step - loss: 0.6275 - accuracy: 0.9059 - val_loss: 0.7921 - val_accuracy: 0.8631\n",
            "Epoch 7/20\n",
            "262/262 [==============================] - 4s 14ms/step - loss: 0.6523 - accuracy: 0.8954 - val_loss: 0.8096 - val_accuracy: 0.8628\n",
            "Epoch 8/20\n",
            "262/262 [==============================] - 4s 14ms/step - loss: 0.6649 - accuracy: 0.8941 - val_loss: 0.8090 - val_accuracy: 0.8674\n",
            "Epoch 9/20\n",
            "262/262 [==============================] - 4s 14ms/step - loss: 0.6231 - accuracy: 0.9022 - val_loss: 0.7939 - val_accuracy: 0.8667\n",
            "Epoch 10/20\n",
            "262/262 [==============================] - 4s 14ms/step - loss: 0.6390 - accuracy: 0.8945 - val_loss: 0.8081 - val_accuracy: 0.8581\n",
            "Epoch 11/20\n",
            "262/262 [==============================] - 4s 14ms/step - loss: 0.6373 - accuracy: 0.8964 - val_loss: 0.8196 - val_accuracy: 0.8603\n",
            "Epoch 12/20\n",
            "262/262 [==============================] - 4s 14ms/step - loss: 0.6484 - accuracy: 0.8946 - val_loss: 0.7782 - val_accuracy: 0.8638\n",
            "Epoch 13/20\n",
            "262/262 [==============================] - 4s 14ms/step - loss: 0.6021 - accuracy: 0.9025 - val_loss: 0.7998 - val_accuracy: 0.8592\n",
            "Epoch 14/20\n",
            "262/262 [==============================] - 4s 14ms/step - loss: 0.6105 - accuracy: 0.8993 - val_loss: 0.7876 - val_accuracy: 0.8692\n",
            "Epoch 15/20\n",
            "262/262 [==============================] - 4s 14ms/step - loss: 0.6040 - accuracy: 0.9015 - val_loss: 0.7970 - val_accuracy: 0.8570\n",
            "Epoch 16/20\n",
            "262/262 [==============================] - 4s 14ms/step - loss: 0.6167 - accuracy: 0.8982 - val_loss: 0.8222 - val_accuracy: 0.8560\n",
            "Epoch 17/20\n",
            "262/262 [==============================] - 4s 14ms/step - loss: 0.6084 - accuracy: 0.9022 - val_loss: 0.8020 - val_accuracy: 0.8635\n",
            "Epoch 18/20\n",
            "262/262 [==============================] - 4s 14ms/step - loss: 0.6170 - accuracy: 0.8980 - val_loss: 0.7703 - val_accuracy: 0.8699\n",
            "Epoch 19/20\n",
            "262/262 [==============================] - 4s 14ms/step - loss: 0.6140 - accuracy: 0.9006 - val_loss: 0.7889 - val_accuracy: 0.8621\n",
            "Epoch 20/20\n",
            "262/262 [==============================] - 4s 14ms/step - loss: 0.5794 - accuracy: 0.9049 - val_loss: 0.7649 - val_accuracy: 0.8671\n"
          ],
          "name": "stdout"
        }
      ]
    },
    {
      "cell_type": "code",
      "metadata": {
        "colab_type": "code",
        "outputId": "943f6b02-107f-4e9e-83bc-e4ff956bda9a",
        "id": "HoeT0no9Xtqi",
        "colab": {
          "base_uri": "https://localhost:8080/",
          "height": 545
        }
      },
      "source": [
        "acc = history2.history['accuracy']\n",
        "val_acc = history2.history['val_accuracy']\n",
        "loss = history2.history['loss']\n",
        "val_loss = history2.history['val_loss']\n",
        "\n",
        "epochs = range(len(acc))\n",
        "\n",
        "plt.plot(epochs, acc, 'r', label='Training acc')\n",
        "plt.plot(epochs, val_acc, 'b', label='Validation acc')\n",
        "plt.title('Training and validation accuracy')\n",
        "plt.legend()\n",
        "\n",
        "plt.figure()\n",
        "\n",
        "plt.plot(epochs, loss, 'r', label='Training loss')\n",
        "plt.plot(epochs, val_loss, 'b', label='Validation loss')\n",
        "plt.title('Training and validation loss')\n",
        "plt.legend()\n",
        "\n",
        "plt.show()"
      ],
      "execution_count": 0,
      "outputs": [
        {
          "output_type": "display_data",
          "data": {
            "image/png": "[encoded data removed]",
            "text/plain": [
              "<Figure size 432x288 with 1 Axes>"
            ]
          },
          "metadata": {
            "tags": [],
            "needs_background": "light"
          }
        },
        {
          "output_type": "display_data",
          "data": {
            "image/png": "[encoded data removed]",
            "text/plain": [
              "<Figure size 432x288 with 1 Axes>"
            ]
          },
          "metadata": {
            "tags": [],
            "needs_background": "light"
          }
        }
      ]
    },
    {
      "cell_type": "markdown",
      "metadata": {
        "id": "glCz37udIWH9",
        "colab_type": "text"
      },
      "source": [
        "# **Test** "
      ]
    },
    {
      "cell_type": "code",
      "metadata": {
        "id": "NnTBpJOpDxJl",
        "colab_type": "code",
        "outputId": "b994be32-7833-4fe2-e462-95178024694a",
        "colab": {
          "base_uri": "https://localhost:8080/",
          "height": 35
        }
      },
      "source": [
        "score = model2.evaluate(test_data_nan, y_test_nan)"
      ],
      "execution_count": 0,
      "outputs": [
        {
          "output_type": "stream",
          "text": [
            "87/87 [==============================] - 0s 3ms/step - loss: 0.7603 - accuracy: 0.8580\n"
          ],
          "name": "stdout"
        }
      ]
    },
    {
      "cell_type": "code",
      "metadata": {
        "id": "N3Xh1WsPiqhD",
        "colab_type": "code",
        "colab": {}
      },
      "source": [
        "from sklearn.metrics import classification_report\n",
        "from sklearn.metrics import confusion_matrix"
      ],
      "execution_count": 0,
      "outputs": []
    },
    {
      "cell_type": "code",
      "metadata": {
        "id": "8L7SCxyuiqYd",
        "colab_type": "code",
        "colab": {}
      },
      "source": [
        "pred_test = np.argmax(model2.predict(test_data_nan), axis=-1)"
      ],
      "execution_count": 0,
      "outputs": []
    },
    {
      "cell_type": "code",
      "metadata": {
        "id": "_sTtm8tXTz1m",
        "colab_type": "code",
        "outputId": "60eb7531-3978-4dfb-e7ad-6d491b5550bd",
        "colab": {
          "base_uri": "https://localhost:8080/",
          "height": 282
        }
      },
      "source": [
        "y_true = pd.Series(y_test_nan)\n",
        "y_pred = pd.Series(pred_test)\n",
        "\n",
        "pd.crosstab(y_true, y_pred, rownames=['True'], colnames=['Predicted'])\n",
        "\n",
        "# labels=[\"cooking\", \"economy\", \"game\",\"movie\",\"pets\",\"politics\",\"sports\"]"
      ],
      "execution_count": 0,
      "outputs": [
        {
          "output_type": "execute_result",
          "data": {
            "text/html": [
              "<div>\n",
              "<style scoped>\n",
              "    .dataframe tbody tr th:only-of-type {\n",
              "        vertical-align: middle;\n",
              "    }\n",
              "\n",
              "    .dataframe tbody tr th {\n",
              "        vertical-align: top;\n",
              "    }\n",
              "\n",
              "    .dataframe thead th {\n",
              "        text-align: right;\n",
              "    }\n",
              "</style>\n",
              "<table border=\"1\" class=\"dataframe\">\n",
              "  <thead>\n",
              "    <tr style=\"text-align: right;\">\n",
              "      <th>Predicted</th>\n",
              "      <th>0</th>\n",
              "      <th>1</th>\n",
              "      <th>2</th>\n",
              "      <th>3</th>\n",
              "      <th>4</th>\n",
              "      <th>5</th>\n",
              "      <th>6</th>\n",
              "    </tr>\n",
              "    <tr>\n",
              "      <th>True</th>\n",
              "      <th></th>\n",
              "      <th></th>\n",
              "      <th></th>\n",
              "      <th></th>\n",
              "      <th></th>\n",
              "      <th></th>\n",
              "      <th></th>\n",
              "    </tr>\n",
              "  </thead>\n",
              "  <tbody>\n",
              "    <tr>\n",
              "      <th>0</th>\n",
              "      <td>365</td>\n",
              "      <td>1</td>\n",
              "      <td>10</td>\n",
              "      <td>6</td>\n",
              "      <td>6</td>\n",
              "      <td>1</td>\n",
              "      <td>10</td>\n",
              "    </tr>\n",
              "    <tr>\n",
              "      <th>1</th>\n",
              "      <td>2</td>\n",
              "      <td>367</td>\n",
              "      <td>4</td>\n",
              "      <td>5</td>\n",
              "      <td>0</td>\n",
              "      <td>14</td>\n",
              "      <td>8</td>\n",
              "    </tr>\n",
              "    <tr>\n",
              "      <th>2</th>\n",
              "      <td>6</td>\n",
              "      <td>1</td>\n",
              "      <td>313</td>\n",
              "      <td>19</td>\n",
              "      <td>4</td>\n",
              "      <td>13</td>\n",
              "      <td>39</td>\n",
              "    </tr>\n",
              "    <tr>\n",
              "      <th>3</th>\n",
              "      <td>1</td>\n",
              "      <td>6</td>\n",
              "      <td>32</td>\n",
              "      <td>318</td>\n",
              "      <td>5</td>\n",
              "      <td>15</td>\n",
              "      <td>21</td>\n",
              "    </tr>\n",
              "    <tr>\n",
              "      <th>4</th>\n",
              "      <td>8</td>\n",
              "      <td>1</td>\n",
              "      <td>5</td>\n",
              "      <td>11</td>\n",
              "      <td>357</td>\n",
              "      <td>3</td>\n",
              "      <td>9</td>\n",
              "    </tr>\n",
              "    <tr>\n",
              "      <th>5</th>\n",
              "      <td>3</td>\n",
              "      <td>21</td>\n",
              "      <td>4</td>\n",
              "      <td>8</td>\n",
              "      <td>1</td>\n",
              "      <td>354</td>\n",
              "      <td>8</td>\n",
              "    </tr>\n",
              "    <tr>\n",
              "      <th>6</th>\n",
              "      <td>5</td>\n",
              "      <td>9</td>\n",
              "      <td>20</td>\n",
              "      <td>23</td>\n",
              "      <td>1</td>\n",
              "      <td>26</td>\n",
              "      <td>313</td>\n",
              "    </tr>\n",
              "  </tbody>\n",
              "</table>\n",
              "</div>"
            ],
            "text/plain": [
              "Predicted    0    1    2    3    4    5    6\n",
              "True                                        \n",
              "0          365    1   10    6    6    1   10\n",
              "1            2  367    4    5    0   14    8\n",
              "2            6    1  313   19    4   13   39\n",
              "3            1    6   32  318    5   15   21\n",
              "4            8    1    5   11  357    3    9\n",
              "5            3   21    4    8    1  354    8\n",
              "6            5    9   20   23    1   26  313"
            ]
          },
          "metadata": {
            "tags": []
          },
          "execution_count": 41
        }
      ]
    },
    {
      "cell_type": "code",
      "metadata": {
        "id": "6tUIgk_djSjo",
        "colab_type": "code",
        "outputId": "b291be19-a7b2-470a-ac07-fef9bba610a7",
        "colab": {
          "base_uri": "https://localhost:8080/",
          "height": 266
        }
      },
      "source": [
        "print(classification_report(y_test_nan,pred_test))"
      ],
      "execution_count": 0,
      "outputs": [
        {
          "output_type": "stream",
          "text": [
            "              precision    recall  f1-score   support\n",
            "\n",
            "           0       0.94      0.91      0.93       399\n",
            "           1       0.90      0.92      0.91       400\n",
            "           2       0.81      0.79      0.80       395\n",
            "           3       0.82      0.80      0.81       398\n",
            "           4       0.95      0.91      0.93       394\n",
            "           5       0.83      0.89      0.86       399\n",
            "           6       0.77      0.79      0.78       397\n",
            "\n",
            "    accuracy                           0.86      2782\n",
            "   macro avg       0.86      0.86      0.86      2782\n",
            "weighted avg       0.86      0.86      0.86      2782\n",
            "\n"
          ],
          "name": "stdout"
        }
      ]
    },
    {
      "cell_type": "code",
      "metadata": {
        "id": "kmdELZpvVYKO",
        "colab_type": "code",
        "colab": {}
      },
      "source": [
        "y_pred.to_csv(\"/content/drive/My Drive/youtube_project/pred_final.csv\",header=False)"
      ],
      "execution_count": 0,
      "outputs": []
    },
    {
      "cell_type": "code",
      "metadata": {
        "id": "8BjKCWxIkDv7",
        "colab_type": "code",
        "colab": {}
      },
      "source": [
        ""
      ],
      "execution_count": 0,
      "outputs": []
    },
    {
      "cell_type": "code",
      "metadata": {
        "id": "nvs2_NRokzfF",
        "colab_type": "code",
        "outputId": "e9127bfa-52c5-45fb-8919-cf03d1342b58",
        "colab": {
          "base_uri": "https://localhost:8080/",
          "height": 194
        }
      },
      "source": [
        "df2.head()"
      ],
      "execution_count": 0,
      "outputs": [
        {
          "output_type": "execute_result",
          "data": {
            "text/html": [
              "<div>\n",
              "<style scoped>\n",
              "    .dataframe tbody tr th:only-of-type {\n",
              "        vertical-align: middle;\n",
              "    }\n",
              "\n",
              "    .dataframe tbody tr th {\n",
              "        vertical-align: top;\n",
              "    }\n",
              "\n",
              "    .dataframe thead th {\n",
              "        text-align: right;\n",
              "    }\n",
              "</style>\n",
              "<table border=\"1\" class=\"dataframe\">\n",
              "  <thead>\n",
              "    <tr style=\"text-align: right;\">\n",
              "      <th></th>\n",
              "      <th>Unnamed: 0</th>\n",
              "      <th>video_name</th>\n",
              "      <th>thumbnail</th>\n",
              "      <th>category_id</th>\n",
              "    </tr>\n",
              "  </thead>\n",
              "  <tbody>\n",
              "    <tr>\n",
              "      <th>0</th>\n",
              "      <td>25171</td>\n",
              "      <td>경희대 '춤출래', 🕺이게 대학생한테 나올 수 있는 갬성인가요?? 시대를 초월한 안...</td>\n",
              "      <td>https://i.ytimg.com/vi/AzaaAfLTdps/hqdefault.j...</td>\n",
              "      <td>5</td>\n",
              "    </tr>\n",
              "    <tr>\n",
              "      <th>1</th>\n",
              "      <td>31732</td>\n",
              "      <td>[꿀팁] 팔꿈치가 아픈이유 :: 인클라인 플라이</td>\n",
              "      <td>https://i.ytimg.com/vi/2LXRvCyWlhI/hqdefault.j...</td>\n",
              "      <td>6</td>\n",
              "    </tr>\n",
              "    <tr>\n",
              "      <th>2</th>\n",
              "      <td>15261</td>\n",
              "      <td>라이너LIVE 3월 첫 라이브입니다</td>\n",
              "      <td>https://i.ytimg.com/vi/Zd5fkcot13I/hqdefault.j...</td>\n",
              "      <td>3</td>\n",
              "    </tr>\n",
              "    <tr>\n",
              "      <th>3</th>\n",
              "      <td>2377</td>\n",
              "      <td>[증시하이라이트] 외국인 한달째 순매도 연말 지수 위협 받나? /증시라인/한국경제TV</td>\n",
              "      <td>https://i.ytimg.com/vi/_YHG13x7JYI/hqdefault.j...</td>\n",
              "      <td>1</td>\n",
              "    </tr>\n",
              "    <tr>\n",
              "      <th>4</th>\n",
              "      <td>8760</td>\n",
              "      <td>가지?고추? 가지고추! 항암, 고혈압, 당뇨, 눈건강에 좋은 보약 레시피</td>\n",
              "      <td>https://i.ytimg.com/vi/XJXuhwoKsEk/hqdefault.j...</td>\n",
              "      <td>0</td>\n",
              "    </tr>\n",
              "  </tbody>\n",
              "</table>\n",
              "</div>"
            ],
            "text/plain": [
              "   Unnamed: 0  ... category_id\n",
              "0       25171  ...           5\n",
              "1       31732  ...           6\n",
              "2       15261  ...           3\n",
              "3        2377  ...           1\n",
              "4        8760  ...           0\n",
              "\n",
              "[5 rows x 4 columns]"
            ]
          },
          "metadata": {
            "tags": []
          },
          "execution_count": 44
        }
      ]
    },
    {
      "cell_type": "code",
      "metadata": {
        "id": "50TULtPCk0pq",
        "colab_type": "code",
        "outputId": "8487b4b0-34f2-4caa-cf87-bc639e993cad",
        "colab": {
          "base_uri": "https://localhost:8080/",
          "height": 35
        }
      },
      "source": [
        "df2.iloc[0,2]"
      ],
      "execution_count": 0,
      "outputs": [
        {
          "output_type": "execute_result",
          "data": {
            "text/plain": [
              "'https://i.ytimg.com/vi/AzaaAfLTdps/hqdefault.jpg?sqp=-oaymwEZCNACELwBSFXyq4qpAwsIARUAAIhCGAFwAQ==&rs=AOn4CLCM81tLKOkghI-yGj6new4FvhRkcQ'"
            ]
          },
          "metadata": {
            "tags": []
          },
          "execution_count": 45
        }
      ]
    },
    {
      "cell_type": "code",
      "metadata": {
        "id": "_Ky1K2QLk-9X",
        "colab_type": "code",
        "colab": {}
      },
      "source": [
        ""
      ],
      "execution_count": 0,
      "outputs": []
    }
  ]
}