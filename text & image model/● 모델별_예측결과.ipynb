{
  "nbformat": 4,
  "nbformat_minor": 0,
  "metadata": {
    "colab": {
      "name": "모델별 예측결과.ipynb",
      "provenance": [],
      "collapsed_sections": []
    },
    "kernelspec": {
      "name": "python3",
      "display_name": "Python 3"
    }
  },
  "cells": [
    {
      "cell_type": "code",
      "metadata": {
        "id": "qGsrG1kUB8Ce",
        "colab_type": "code",
        "outputId": "c54f87e9-9e25-4299-b922-d2a489fcfa67",
        "colab": {
          "base_uri": "https://localhost:8080/",
          "height": 126
        }
      },
      "source": [
        "from google.colab import drive\n",
        "drive.mount('/content/drive')"
      ],
      "execution_count": 0,
      "outputs": [
        {
          "output_type": "stream",
          "text": [
            "Go to this URL in a browser: https://accounts.google.com/o/oauth2/auth?client_id=947318989803-6bn6qk8qdgf4n4g3pfee6491hc0brc4i.apps.googleusercontent.com&redirect_uri=urn%3aietf%3awg%3aoauth%3a2.0%3aoob&response_type=code&scope=email%20https%3a%2f%2fwww.googleapis.com%2fauth%2fdocs.test%20https%3a%2f%2fwww.googleapis.com%2fauth%2fdrive%20https%3a%2f%2fwww.googleapis.com%2fauth%2fdrive.photos.readonly%20https%3a%2f%2fwww.googleapis.com%2fauth%2fpeopleapi.readonly\n",
            "\n",
            "Enter your authorization code:\n",
            "··········\n",
            "Mounted at /content/drive\n"
          ],
          "name": "stdout"
        }
      ]
    },
    {
      "cell_type": "code",
      "metadata": {
        "id": "4L7-QutrB93F",
        "colab_type": "code",
        "colab": {}
      },
      "source": [
        "import sklearn\n",
        "import tensorflow as tf\n",
        "from tensorflow import keras\n",
        "import matplotlib as mpl\n",
        "import matplotlib.pyplot as plt\n",
        "import pandas as pd\n",
        "import numpy as np\n",
        "import os\n",
        "from sklearn.model_selection import train_test_split"
      ],
      "execution_count": 0,
      "outputs": []
    },
    {
      "cell_type": "markdown",
      "metadata": {
        "id": "-2k5DYjsDWyU",
        "colab_type": "text"
      },
      "source": [
        "## read"
      ]
    },
    {
      "cell_type": "code",
      "metadata": {
        "id": "KQc5FYaGB-2A",
        "colab_type": "code",
        "outputId": "bcd133e9-50e0-45e0-9634-b13787de10e0",
        "colab": {
          "base_uri": "https://localhost:8080/",
          "height": 194
        }
      },
      "source": [
        "test_df = pd.read_csv(\"/content/drive/My Drive/youtube_project/real_test.csv\", encoding='utf-8-sig')\n",
        "test_df.head()"
      ],
      "execution_count": 0,
      "outputs": [
        {
          "output_type": "execute_result",
          "data": {
            "text/html": [
              "<div>\n",
              "<style scoped>\n",
              "    .dataframe tbody tr th:only-of-type {\n",
              "        vertical-align: middle;\n",
              "    }\n",
              "\n",
              "    .dataframe tbody tr th {\n",
              "        vertical-align: top;\n",
              "    }\n",
              "\n",
              "    .dataframe thead th {\n",
              "        text-align: right;\n",
              "    }\n",
              "</style>\n",
              "<table border=\"1\" class=\"dataframe\">\n",
              "  <thead>\n",
              "    <tr style=\"text-align: right;\">\n",
              "      <th></th>\n",
              "      <th>Unnamed: 0</th>\n",
              "      <th>video_name</th>\n",
              "      <th>thumbnail</th>\n",
              "      <th>category_id</th>\n",
              "    </tr>\n",
              "  </thead>\n",
              "  <tbody>\n",
              "    <tr>\n",
              "      <th>0</th>\n",
              "      <td>25171</td>\n",
              "      <td>경희대 '춤출래', 🕺이게 대학생한테 나올 수 있는 갬성인가요?? 시대를 초월한 안...</td>\n",
              "      <td>https://i.ytimg.com/vi/AzaaAfLTdps/hqdefault.j...</td>\n",
              "      <td>5</td>\n",
              "    </tr>\n",
              "    <tr>\n",
              "      <th>1</th>\n",
              "      <td>31732</td>\n",
              "      <td>[꿀팁] 팔꿈치가 아픈이유 :: 인클라인 플라이</td>\n",
              "      <td>https://i.ytimg.com/vi/2LXRvCyWlhI/hqdefault.j...</td>\n",
              "      <td>6</td>\n",
              "    </tr>\n",
              "    <tr>\n",
              "      <th>2</th>\n",
              "      <td>15261</td>\n",
              "      <td>라이너LIVE 3월 첫 라이브입니다</td>\n",
              "      <td>https://i.ytimg.com/vi/Zd5fkcot13I/hqdefault.j...</td>\n",
              "      <td>3</td>\n",
              "    </tr>\n",
              "    <tr>\n",
              "      <th>3</th>\n",
              "      <td>2377</td>\n",
              "      <td>[증시하이라이트] 외국인 한달째 순매도 연말 지수 위협 받나? /증시라인/한국경제TV</td>\n",
              "      <td>https://i.ytimg.com/vi/_YHG13x7JYI/hqdefault.j...</td>\n",
              "      <td>1</td>\n",
              "    </tr>\n",
              "    <tr>\n",
              "      <th>4</th>\n",
              "      <td>8760</td>\n",
              "      <td>가지?고추? 가지고추! 항암, 고혈압, 당뇨, 눈건강에 좋은 보약 레시피</td>\n",
              "      <td>https://i.ytimg.com/vi/XJXuhwoKsEk/hqdefault.j...</td>\n",
              "      <td>0</td>\n",
              "    </tr>\n",
              "  </tbody>\n",
              "</table>\n",
              "</div>"
            ],
            "text/plain": [
              "   Unnamed: 0  ... category_id\n",
              "0       25171  ...           5\n",
              "1       31732  ...           6\n",
              "2       15261  ...           3\n",
              "3        2377  ...           1\n",
              "4        8760  ...           0\n",
              "\n",
              "[5 rows x 4 columns]"
            ]
          },
          "metadata": {
            "tags": []
          },
          "execution_count": 82
        }
      ]
    },
    {
      "cell_type": "code",
      "metadata": {
        "id": "--FeAwr4CAoz",
        "colab_type": "code",
        "colab": {}
      },
      "source": [
        "pred_final = pd.read_csv(\"/content/drive/My Drive/youtube_project/pred_final.csv\",header=None)\n",
        "pred_vgg = pd.read_csv(\"/content/drive/My Drive/youtube_project/pred_vgg.csv\",header=None)\n",
        "pred_fxt_SVC = pd.read_csv(\"/content/drive/My Drive/youtube_project/pred_fxt_SVC.csv\")"
      ],
      "execution_count": 0,
      "outputs": []
    },
    {
      "cell_type": "code",
      "metadata": {
        "id": "ZqbfhU2aCBEl",
        "colab_type": "code",
        "outputId": "61eb7d29-273c-41e7-9dbf-f6e03fa04982",
        "colab": {
          "base_uri": "https://localhost:8080/",
          "height": 399
        }
      },
      "source": [
        "pred_final"
      ],
      "execution_count": 0,
      "outputs": [
        {
          "output_type": "execute_result",
          "data": {
            "text/html": [
              "<div>\n",
              "<style scoped>\n",
              "    .dataframe tbody tr th:only-of-type {\n",
              "        vertical-align: middle;\n",
              "    }\n",
              "\n",
              "    .dataframe tbody tr th {\n",
              "        vertical-align: top;\n",
              "    }\n",
              "\n",
              "    .dataframe thead th {\n",
              "        text-align: right;\n",
              "    }\n",
              "</style>\n",
              "<table border=\"1\" class=\"dataframe\">\n",
              "  <thead>\n",
              "    <tr style=\"text-align: right;\">\n",
              "      <th></th>\n",
              "      <th>0</th>\n",
              "      <th>1</th>\n",
              "    </tr>\n",
              "  </thead>\n",
              "  <tbody>\n",
              "    <tr>\n",
              "      <th>0</th>\n",
              "      <td>0</td>\n",
              "      <td>5</td>\n",
              "    </tr>\n",
              "    <tr>\n",
              "      <th>1</th>\n",
              "      <td>1</td>\n",
              "      <td>6</td>\n",
              "    </tr>\n",
              "    <tr>\n",
              "      <th>2</th>\n",
              "      <td>2</td>\n",
              "      <td>3</td>\n",
              "    </tr>\n",
              "    <tr>\n",
              "      <th>3</th>\n",
              "      <td>3</td>\n",
              "      <td>1</td>\n",
              "    </tr>\n",
              "    <tr>\n",
              "      <th>4</th>\n",
              "      <td>4</td>\n",
              "      <td>0</td>\n",
              "    </tr>\n",
              "    <tr>\n",
              "      <th>...</th>\n",
              "      <td>...</td>\n",
              "      <td>...</td>\n",
              "    </tr>\n",
              "    <tr>\n",
              "      <th>2777</th>\n",
              "      <td>2777</td>\n",
              "      <td>5</td>\n",
              "    </tr>\n",
              "    <tr>\n",
              "      <th>2778</th>\n",
              "      <td>2778</td>\n",
              "      <td>0</td>\n",
              "    </tr>\n",
              "    <tr>\n",
              "      <th>2779</th>\n",
              "      <td>2779</td>\n",
              "      <td>2</td>\n",
              "    </tr>\n",
              "    <tr>\n",
              "      <th>2780</th>\n",
              "      <td>2780</td>\n",
              "      <td>5</td>\n",
              "    </tr>\n",
              "    <tr>\n",
              "      <th>2781</th>\n",
              "      <td>2781</td>\n",
              "      <td>6</td>\n",
              "    </tr>\n",
              "  </tbody>\n",
              "</table>\n",
              "<p>2782 rows × 2 columns</p>\n",
              "</div>"
            ],
            "text/plain": [
              "         0  1\n",
              "0        0  5\n",
              "1        1  6\n",
              "2        2  3\n",
              "3        3  1\n",
              "4        4  0\n",
              "...    ... ..\n",
              "2777  2777  5\n",
              "2778  2778  0\n",
              "2779  2779  2\n",
              "2780  2780  5\n",
              "2781  2781  6\n",
              "\n",
              "[2782 rows x 2 columns]"
            ]
          },
          "metadata": {
            "tags": []
          },
          "execution_count": 99
        }
      ]
    },
    {
      "cell_type": "code",
      "metadata": {
        "id": "QfJaBZuICf5x",
        "colab_type": "code",
        "outputId": "a9b939e2-2e52-43e2-e389-017be429a33a",
        "colab": {
          "base_uri": "https://localhost:8080/",
          "height": 399
        }
      },
      "source": [
        "pred_vgg"
      ],
      "execution_count": 0,
      "outputs": [
        {
          "output_type": "execute_result",
          "data": {
            "text/html": [
              "<div>\n",
              "<style scoped>\n",
              "    .dataframe tbody tr th:only-of-type {\n",
              "        vertical-align: middle;\n",
              "    }\n",
              "\n",
              "    .dataframe tbody tr th {\n",
              "        vertical-align: top;\n",
              "    }\n",
              "\n",
              "    .dataframe thead th {\n",
              "        text-align: right;\n",
              "    }\n",
              "</style>\n",
              "<table border=\"1\" class=\"dataframe\">\n",
              "  <thead>\n",
              "    <tr style=\"text-align: right;\">\n",
              "      <th></th>\n",
              "      <th>index</th>\n",
              "      <th>0</th>\n",
              "      <th>1</th>\n",
              "    </tr>\n",
              "  </thead>\n",
              "  <tbody>\n",
              "    <tr>\n",
              "      <th>0</th>\n",
              "      <td>0</td>\n",
              "      <td>0</td>\n",
              "      <td>2</td>\n",
              "    </tr>\n",
              "    <tr>\n",
              "      <th>1</th>\n",
              "      <td>1</td>\n",
              "      <td>1</td>\n",
              "      <td>6</td>\n",
              "    </tr>\n",
              "    <tr>\n",
              "      <th>2</th>\n",
              "      <td>2</td>\n",
              "      <td>2</td>\n",
              "      <td>3</td>\n",
              "    </tr>\n",
              "    <tr>\n",
              "      <th>3</th>\n",
              "      <td>3</td>\n",
              "      <td>3</td>\n",
              "      <td>1</td>\n",
              "    </tr>\n",
              "    <tr>\n",
              "      <th>4</th>\n",
              "      <td>4</td>\n",
              "      <td>4</td>\n",
              "      <td>0</td>\n",
              "    </tr>\n",
              "    <tr>\n",
              "      <th>...</th>\n",
              "      <td>...</td>\n",
              "      <td>...</td>\n",
              "      <td>...</td>\n",
              "    </tr>\n",
              "    <tr>\n",
              "      <th>2777</th>\n",
              "      <td>2794</td>\n",
              "      <td>2794</td>\n",
              "      <td>5</td>\n",
              "    </tr>\n",
              "    <tr>\n",
              "      <th>2778</th>\n",
              "      <td>2795</td>\n",
              "      <td>2795</td>\n",
              "      <td>0</td>\n",
              "    </tr>\n",
              "    <tr>\n",
              "      <th>2779</th>\n",
              "      <td>2797</td>\n",
              "      <td>2797</td>\n",
              "      <td>6</td>\n",
              "    </tr>\n",
              "    <tr>\n",
              "      <th>2780</th>\n",
              "      <td>2798</td>\n",
              "      <td>2798</td>\n",
              "      <td>5</td>\n",
              "    </tr>\n",
              "    <tr>\n",
              "      <th>2781</th>\n",
              "      <td>2799</td>\n",
              "      <td>2799</td>\n",
              "      <td>5</td>\n",
              "    </tr>\n",
              "  </tbody>\n",
              "</table>\n",
              "<p>2782 rows × 3 columns</p>\n",
              "</div>"
            ],
            "text/plain": [
              "      index     0  1\n",
              "0         0     0  2\n",
              "1         1     1  6\n",
              "2         2     2  3\n",
              "3         3     3  1\n",
              "4         4     4  0\n",
              "...     ...   ... ..\n",
              "2777   2794  2794  5\n",
              "2778   2795  2795  0\n",
              "2779   2797  2797  6\n",
              "2780   2798  2798  5\n",
              "2781   2799  2799  5\n",
              "\n",
              "[2782 rows x 3 columns]"
            ]
          },
          "metadata": {
            "tags": []
          },
          "execution_count": 97
        }
      ]
    },
    {
      "cell_type": "code",
      "metadata": {
        "id": "iX2hvTEEChlb",
        "colab_type": "code",
        "outputId": "7f2c80d7-2057-4fe4-db08-f18bd78edec9",
        "colab": {
          "base_uri": "https://localhost:8080/",
          "height": 399
        }
      },
      "source": [
        "pred_fxt_SVC"
      ],
      "execution_count": 0,
      "outputs": [
        {
          "output_type": "execute_result",
          "data": {
            "text/html": [
              "<div>\n",
              "<style scoped>\n",
              "    .dataframe tbody tr th:only-of-type {\n",
              "        vertical-align: middle;\n",
              "    }\n",
              "\n",
              "    .dataframe tbody tr th {\n",
              "        vertical-align: top;\n",
              "    }\n",
              "\n",
              "    .dataframe thead th {\n",
              "        text-align: right;\n",
              "    }\n",
              "</style>\n",
              "<table border=\"1\" class=\"dataframe\">\n",
              "  <thead>\n",
              "    <tr style=\"text-align: right;\">\n",
              "      <th></th>\n",
              "      <th>Unnamed: 0</th>\n",
              "      <th>0</th>\n",
              "    </tr>\n",
              "  </thead>\n",
              "  <tbody>\n",
              "    <tr>\n",
              "      <th>0</th>\n",
              "      <td>0</td>\n",
              "      <td>5</td>\n",
              "    </tr>\n",
              "    <tr>\n",
              "      <th>1</th>\n",
              "      <td>1</td>\n",
              "      <td>6</td>\n",
              "    </tr>\n",
              "    <tr>\n",
              "      <th>2</th>\n",
              "      <td>2</td>\n",
              "      <td>4</td>\n",
              "    </tr>\n",
              "    <tr>\n",
              "      <th>3</th>\n",
              "      <td>3</td>\n",
              "      <td>1</td>\n",
              "    </tr>\n",
              "    <tr>\n",
              "      <th>4</th>\n",
              "      <td>4</td>\n",
              "      <td>0</td>\n",
              "    </tr>\n",
              "    <tr>\n",
              "      <th>...</th>\n",
              "      <td>...</td>\n",
              "      <td>...</td>\n",
              "    </tr>\n",
              "    <tr>\n",
              "      <th>2777</th>\n",
              "      <td>2777</td>\n",
              "      <td>5</td>\n",
              "    </tr>\n",
              "    <tr>\n",
              "      <th>2778</th>\n",
              "      <td>2778</td>\n",
              "      <td>0</td>\n",
              "    </tr>\n",
              "    <tr>\n",
              "      <th>2779</th>\n",
              "      <td>2779</td>\n",
              "      <td>2</td>\n",
              "    </tr>\n",
              "    <tr>\n",
              "      <th>2780</th>\n",
              "      <td>2780</td>\n",
              "      <td>2</td>\n",
              "    </tr>\n",
              "    <tr>\n",
              "      <th>2781</th>\n",
              "      <td>2781</td>\n",
              "      <td>6</td>\n",
              "    </tr>\n",
              "  </tbody>\n",
              "</table>\n",
              "<p>2782 rows × 2 columns</p>\n",
              "</div>"
            ],
            "text/plain": [
              "      Unnamed: 0  0\n",
              "0              0  5\n",
              "1              1  6\n",
              "2              2  4\n",
              "3              3  1\n",
              "4              4  0\n",
              "...          ... ..\n",
              "2777        2777  5\n",
              "2778        2778  0\n",
              "2779        2779  2\n",
              "2780        2780  2\n",
              "2781        2781  6\n",
              "\n",
              "[2782 rows x 2 columns]"
            ]
          },
          "metadata": {
            "tags": []
          },
          "execution_count": 98
        }
      ]
    },
    {
      "cell_type": "code",
      "metadata": {
        "id": "uhRvUbvICi9T",
        "colab_type": "code",
        "outputId": "1a989ce5-4069-460b-d5f7-1d05ef9ac651",
        "colab": {
          "base_uri": "https://localhost:8080/",
          "height": 52
        }
      },
      "source": [
        "test_df.iloc[0,1], test_df.iloc[0,2]"
      ],
      "execution_count": 0,
      "outputs": [
        {
          "output_type": "execute_result",
          "data": {
            "text/plain": [
              "(\"경희대 '춤출래', 🕺이게 대학생한테 나올 수 있는 갬성인가요?? 시대를 초월한 안무! #표쏭앳홈 #표댄스앳홈 | 정치합시다\",\n",
              " 'https://i.ytimg.com/vi/AzaaAfLTdps/hqdefault.jpg?sqp=-oaymwEZCNACELwBSFXyq4qpAwsIARUAAIhCGAFwAQ==&rs=AOn4CLCM81tLKOkghI-yGj6new4FvhRkcQ')"
            ]
          },
          "metadata": {
            "tags": []
          },
          "execution_count": 87
        }
      ]
    },
    {
      "cell_type": "markdown",
      "metadata": {
        "id": "bZSE4JR7DZI2",
        "colab_type": "text"
      },
      "source": [
        "## nan mask"
      ]
    },
    {
      "cell_type": "code",
      "metadata": {
        "id": "kFuZrp1hDc91",
        "colab_type": "code",
        "outputId": "e46c92d5-5b21-4d7a-ab15-bf2be20607f8",
        "colab": {
          "base_uri": "https://localhost:8080/",
          "height": 35
        }
      },
      "source": [
        "feature_fxt_test = np.load('/content/drive/My Drive/youtube_project/okt_fxt_test.npy')\n",
        "feature_fxt_test.shape"
      ],
      "execution_count": 0,
      "outputs": [
        {
          "output_type": "execute_result",
          "data": {
            "text/plain": [
              "(2800, 100)"
            ]
          },
          "metadata": {
            "tags": []
          },
          "execution_count": 88
        }
      ]
    },
    {
      "cell_type": "code",
      "metadata": {
        "id": "uRuoABvkDaZ_",
        "colab_type": "code",
        "colab": {}
      },
      "source": [
        "nanmask = ~np.isnan(feature_fxt_test).any(axis=1)"
      ],
      "execution_count": 0,
      "outputs": []
    },
    {
      "cell_type": "code",
      "metadata": {
        "id": "M8Dkd2_uDhCD",
        "colab_type": "code",
        "outputId": "86614899-29f3-4823-b9b0-5a4cf9ac3d70",
        "colab": {
          "base_uri": "https://localhost:8080/",
          "height": 35
        }
      },
      "source": [
        "sum(~nanmask)"
      ],
      "execution_count": 0,
      "outputs": [
        {
          "output_type": "execute_result",
          "data": {
            "text/plain": [
              "18"
            ]
          },
          "metadata": {
            "tags": []
          },
          "execution_count": 90
        }
      ]
    },
    {
      "cell_type": "code",
      "metadata": {
        "id": "P2RgHYtzDhnl",
        "colab_type": "code",
        "colab": {}
      },
      "source": [
        "pred_vgg = pred_vgg[nanmask]"
      ],
      "execution_count": 0,
      "outputs": []
    },
    {
      "cell_type": "code",
      "metadata": {
        "id": "JHVLbG2jGty9",
        "colab_type": "code",
        "colab": {}
      },
      "source": [
        "pred_vgg = pred_vgg.reset_index()"
      ],
      "execution_count": 0,
      "outputs": []
    },
    {
      "cell_type": "code",
      "metadata": {
        "id": "9b0rCBgvEifB",
        "colab_type": "code",
        "colab": {}
      },
      "source": [
        "test_df = test_df.iloc[:,1:][nanmask]"
      ],
      "execution_count": 0,
      "outputs": []
    },
    {
      "cell_type": "code",
      "metadata": {
        "id": "86xX2NahG7B1",
        "colab_type": "code",
        "colab": {}
      },
      "source": [
        "test_df = test_df.reset_index()"
      ],
      "execution_count": 0,
      "outputs": []
    },
    {
      "cell_type": "markdown",
      "metadata": {
        "id": "O7X4Io7jDz4h",
        "colab_type": "text"
      },
      "source": [
        "## concat"
      ]
    },
    {
      "cell_type": "code",
      "metadata": {
        "id": "BWBtPup1Ecjk",
        "colab_type": "code",
        "outputId": "23eda476-5be2-4af3-828c-26da65158449",
        "colab": {
          "base_uri": "https://localhost:8080/",
          "height": 35
        }
      },
      "source": [
        "test_df.shape, pred_vgg.shape, pred_final.shape, pred_fxt_SVC.shape"
      ],
      "execution_count": 0,
      "outputs": [
        {
          "output_type": "execute_result",
          "data": {
            "text/plain": [
              "((2782, 4), (2782, 3), (2782, 2), (2782, 2))"
            ]
          },
          "metadata": {
            "tags": []
          },
          "execution_count": 101
        }
      ]
    },
    {
      "cell_type": "code",
      "metadata": {
        "id": "UBXIfuxvEFTQ",
        "colab_type": "code",
        "colab": {}
      },
      "source": [
        "pred_df = pd.concat([test_df,pred_final[1],pred_vgg[1],pred_fxt_SVC[\"0\"]],axis=1).iloc[:,1:]"
      ],
      "execution_count": 0,
      "outputs": []
    },
    {
      "cell_type": "code",
      "metadata": {
        "id": "IH1jcSwDLMUh",
        "colab_type": "code",
        "outputId": "93576079-3b08-42a4-aae5-950ee504ade3",
        "colab": {
          "base_uri": "https://localhost:8080/",
          "height": 35
        }
      },
      "source": [
        " pred_df.columns"
      ],
      "execution_count": 0,
      "outputs": [
        {
          "output_type": "execute_result",
          "data": {
            "text/plain": [
              "Index(['video_name', 'thumbnail', 'category_id', 1, 1, '0'], dtype='object')"
            ]
          },
          "metadata": {
            "tags": []
          },
          "execution_count": 129
        }
      ]
    },
    {
      "cell_type": "code",
      "metadata": {
        "id": "6JgUXNNrEtHP",
        "colab_type": "code",
        "colab": {}
      },
      "source": [
        " pred_df.columns = ['video_name', 'thumbnail', 'category_id', \"IMAGE+TEXT\", \"IMAGE\", 'TEXT']"
      ],
      "execution_count": 0,
      "outputs": []
    },
    {
      "cell_type": "markdown",
      "metadata": {
        "id": "tHv7WSQgGpPf",
        "colab_type": "text"
      },
      "source": [
        "## Case 1. Vgg만 오예측"
      ]
    },
    {
      "cell_type": "code",
      "metadata": {
        "colab_type": "code",
        "id": "5_X1vwOpL65D",
        "colab": {}
      },
      "source": [
        "case1_mask = (pred_df.iloc[:,2] == pred_df.iloc[:,3] ) & ( pred_df.iloc[:,2] != pred_df.iloc[:,4] ) & (pred_df.iloc[:,2] == pred_df.iloc[:,5] )"
      ],
      "execution_count": 0,
      "outputs": []
    },
    {
      "cell_type": "code",
      "metadata": {
        "colab_type": "code",
        "outputId": "0a26d2bd-4671-468d-fc6e-a7e83456eed8",
        "id": "gNrt0CO-L65O",
        "colab": {
          "base_uri": "https://localhost:8080/",
          "height": 467
        }
      },
      "source": [
        "pred_df[case1_mask]"
      ],
      "execution_count": 0,
      "outputs": [
        {
          "output_type": "execute_result",
          "data": {
            "text/html": [
              "<div>\n",
              "<style scoped>\n",
              "    .dataframe tbody tr th:only-of-type {\n",
              "        vertical-align: middle;\n",
              "    }\n",
              "\n",
              "    .dataframe tbody tr th {\n",
              "        vertical-align: top;\n",
              "    }\n",
              "\n",
              "    .dataframe thead th {\n",
              "        text-align: right;\n",
              "    }\n",
              "</style>\n",
              "<table border=\"1\" class=\"dataframe\">\n",
              "  <thead>\n",
              "    <tr style=\"text-align: right;\">\n",
              "      <th></th>\n",
              "      <th>video_name</th>\n",
              "      <th>thumbnail</th>\n",
              "      <th>category_id</th>\n",
              "      <th>IMAGE+TEXT</th>\n",
              "      <th>IMAGE</th>\n",
              "      <th>TEXT</th>\n",
              "    </tr>\n",
              "  </thead>\n",
              "  <tbody>\n",
              "    <tr>\n",
              "      <th>0</th>\n",
              "      <td>경희대 '춤출래', 🕺이게 대학생한테 나올 수 있는 갬성인가요?? 시대를 초월한 안...</td>\n",
              "      <td>https://i.ytimg.com/vi/AzaaAfLTdps/hqdefault.j...</td>\n",
              "      <td>5</td>\n",
              "      <td>5</td>\n",
              "      <td>2</td>\n",
              "      <td>5</td>\n",
              "    </tr>\n",
              "    <tr>\n",
              "      <th>8</th>\n",
              "      <td>스타워즈: 라이즈 오브 스카이워커 가이드 리뷰</td>\n",
              "      <td>https://i.ytimg.com/vi/N6kc9-fYilI/hqdefault.j...</td>\n",
              "      <td>3</td>\n",
              "      <td>3</td>\n",
              "      <td>2</td>\n",
              "      <td>3</td>\n",
              "    </tr>\n",
              "    <tr>\n",
              "      <th>17</th>\n",
              "      <td>수치심 때문에 잠들 수가 없읍니다.. [김스카이 VS 메탈킴]</td>\n",
              "      <td>https://i.ytimg.com/vi/h6wm3PeCTXw/hqdefault.j...</td>\n",
              "      <td>3</td>\n",
              "      <td>3</td>\n",
              "      <td>1</td>\n",
              "      <td>3</td>\n",
              "    </tr>\n",
              "    <tr>\n",
              "      <th>18</th>\n",
              "      <td>군대와 자본주의가 만났을 때 영화 'PMC 더 벙커' [무비착즙쇼] 지하 비밀벙커에...</td>\n",
              "      <td>https://i.ytimg.com/vi/b_J786ODkO8/hqdefault.j...</td>\n",
              "      <td>3</td>\n",
              "      <td>3</td>\n",
              "      <td>5</td>\n",
              "      <td>3</td>\n",
              "    </tr>\n",
              "    <tr>\n",
              "      <th>25</th>\n",
              "      <td>캡틴 마블 가이드 리뷰 by 발없는새</td>\n",
              "      <td>https://i.ytimg.com/vi/bAyOPojc_lM/hqdefault.j...</td>\n",
              "      <td>3</td>\n",
              "      <td>3</td>\n",
              "      <td>2</td>\n",
              "      <td>3</td>\n",
              "    </tr>\n",
              "    <tr>\n",
              "      <th>...</th>\n",
              "      <td>...</td>\n",
              "      <td>...</td>\n",
              "      <td>...</td>\n",
              "      <td>...</td>\n",
              "      <td>...</td>\n",
              "      <td>...</td>\n",
              "    </tr>\n",
              "    <tr>\n",
              "      <th>2742</th>\n",
              "      <td>미중 무역협상 치킨게임 양상… 중국, 고위급 협상 제안 / 월가브리핑 / 한국경제TV</td>\n",
              "      <td>https://i.ytimg.com/vi/K61CJwxVptc/hqdefault.j...</td>\n",
              "      <td>1</td>\n",
              "      <td>1</td>\n",
              "      <td>6</td>\n",
              "      <td>1</td>\n",
              "    </tr>\n",
              "    <tr>\n",
              "      <th>2761</th>\n",
              "      <td>살육의 천사 플레이~![선바 스트리밍 #64]</td>\n",
              "      <td>https://i.ytimg.com/vi/Htj4SsADYuQ/hqdefault.j...</td>\n",
              "      <td>2</td>\n",
              "      <td>2</td>\n",
              "      <td>0</td>\n",
              "      <td>2</td>\n",
              "    </tr>\n",
              "    <tr>\n",
              "      <th>2766</th>\n",
              "      <td>DLS, ELS 완벽 정리!_19.08.16_ 황세운, 박제영 [퇴근길 Page2]</td>\n",
              "      <td>https://i.ytimg.com/vi/1vjc7X7Bq3A/hqdefault.j...</td>\n",
              "      <td>1</td>\n",
              "      <td>1</td>\n",
              "      <td>0</td>\n",
              "      <td>1</td>\n",
              "    </tr>\n",
              "    <tr>\n",
              "      <th>2776</th>\n",
              "      <td>마블의 새로운 슈퍼히어로</td>\n",
              "      <td>https://i.ytimg.com/vi/R3gtyxFwBQQ/hqdefault.j...</td>\n",
              "      <td>3</td>\n",
              "      <td>3</td>\n",
              "      <td>4</td>\n",
              "      <td>3</td>\n",
              "    </tr>\n",
              "    <tr>\n",
              "      <th>2781</th>\n",
              "      <td>제주도에서 축구 경기 직관갈 사람 100명을 하루 만에 모을 수 있을까? l 피리부...</td>\n",
              "      <td>https://i.ytimg.com/vi/B9EFKsvW4YA/hqdefault.j...</td>\n",
              "      <td>6</td>\n",
              "      <td>6</td>\n",
              "      <td>5</td>\n",
              "      <td>6</td>\n",
              "    </tr>\n",
              "  </tbody>\n",
              "</table>\n",
              "<p>450 rows × 6 columns</p>\n",
              "</div>"
            ],
            "text/plain": [
              "                                             video_name  ... TEXT\n",
              "0     경희대 '춤출래', 🕺이게 대학생한테 나올 수 있는 갬성인가요?? 시대를 초월한 안...  ...    5\n",
              "8                             스타워즈: 라이즈 오브 스카이워커 가이드 리뷰  ...    3\n",
              "17                   수치심 때문에 잠들 수가 없읍니다.. [김스카이 VS 메탈킴]  ...    3\n",
              "18    군대와 자본주의가 만났을 때 영화 'PMC 더 벙커' [무비착즙쇼] 지하 비밀벙커에...  ...    3\n",
              "25                                 캡틴 마블 가이드 리뷰 by 발없는새  ...    3\n",
              "...                                                 ...  ...  ...\n",
              "2742    미중 무역협상 치킨게임 양상… 중국, 고위급 협상 제안 / 월가브리핑 / 한국경제TV  ...    1\n",
              "2761                          살육의 천사 플레이~![선바 스트리밍 #64]  ...    2\n",
              "2766     DLS, ELS 완벽 정리!_19.08.16_ 황세운, 박제영 [퇴근길 Page2]  ...    1\n",
              "2776                                      마블의 새로운 슈퍼히어로  ...    3\n",
              "2781  제주도에서 축구 경기 직관갈 사람 100명을 하루 만에 모을 수 있을까? l 피리부...  ...    6\n",
              "\n",
              "[450 rows x 6 columns]"
            ]
          },
          "metadata": {
            "tags": []
          },
          "execution_count": 133
        }
      ]
    },
    {
      "cell_type": "code",
      "metadata": {
        "id": "MIwXgs6RHuBk",
        "colab_type": "code",
        "outputId": "984de223-edf3-412b-d2c0-b927368076a6",
        "colab": {
          "base_uri": "https://localhost:8080/",
          "height": 88
        }
      },
      "source": [
        "pred_df.iloc[0,0], pred_df.iloc[0,1],  pred_df.iloc[0,2],  pred_df.iloc[0,4]"
      ],
      "execution_count": 0,
      "outputs": [
        {
          "output_type": "execute_result",
          "data": {
            "text/plain": [
              "(\"경희대 '춤출래', 🕺이게 대학생한테 나올 수 있는 갬성인가요?? 시대를 초월한 안무! #표쏭앳홈 #표댄스앳홈 | 정치합시다\",\n",
              " 'https://i.ytimg.com/vi/AzaaAfLTdps/hqdefault.jpg?sqp=-oaymwEZCNACELwBSFXyq4qpAwsIARUAAIhCGAFwAQ==&rs=AOn4CLCM81tLKOkghI-yGj6new4FvhRkcQ',\n",
              " 5,\n",
              " 2)"
            ]
          },
          "metadata": {
            "tags": []
          },
          "execution_count": 139
        }
      ]
    },
    {
      "cell_type": "code",
      "metadata": {
        "id": "S1FTDaGGHxj9",
        "colab_type": "code",
        "outputId": "7d68077b-43d4-4d52-ca07-e9a51036c216",
        "colab": {
          "base_uri": "https://localhost:8080/",
          "height": 88
        }
      },
      "source": [
        "pred_df.iloc[2781,0], pred_df.iloc[2781,1], pred_df.iloc[2781,2],  pred_df.iloc[2781,4]"
      ],
      "execution_count": 0,
      "outputs": [
        {
          "output_type": "execute_result",
          "data": {
            "text/plain": [
              "('제주도에서 축구 경기 직관갈 사람 100명을 하루 만에 모을 수 있을까? l 피리부는 사나이 완결판 l 슛포러브 Shoot for Love',\n",
              " 'https://i.ytimg.com/vi/B9EFKsvW4YA/hqdefault.jpg?sqp=-oaymwEZCNACELwBSFXyq4qpAwsIARUAAIhCGAFwAQ==&rs=AOn4CLAVvOyFuTFO-1lQmIYlN1Czrtzq2w',\n",
              " 6,\n",
              " 5)"
            ]
          },
          "metadata": {
            "tags": []
          },
          "execution_count": 140
        }
      ]
    },
    {
      "cell_type": "markdown",
      "metadata": {
        "id": "xWLc6d8_HhGm",
        "colab_type": "text"
      },
      "source": [
        "## Case 2. text만 오예측"
      ]
    },
    {
      "cell_type": "code",
      "metadata": {
        "id": "hp4SCjnQKA7W",
        "colab_type": "code",
        "colab": {}
      },
      "source": [
        "case2_mask = (pred_df.iloc[:,2] == pred_df.iloc[:,3] ) & ( pred_df.iloc[:,2] == pred_df.iloc[:,4] ) & (pred_df.iloc[:,2] != pred_df.iloc[:,5] )"
      ],
      "execution_count": 0,
      "outputs": []
    },
    {
      "cell_type": "code",
      "metadata": {
        "id": "K2k2ajfjKiAL",
        "colab_type": "code",
        "outputId": "a21bae74-4dd4-4d80-bdf8-785c09131538",
        "colab": {
          "base_uri": "https://localhost:8080/",
          "height": 399
        }
      },
      "source": [
        "pred_df[case2_mask]"
      ],
      "execution_count": 0,
      "outputs": [
        {
          "output_type": "execute_result",
          "data": {
            "text/html": [
              "<div>\n",
              "<style scoped>\n",
              "    .dataframe tbody tr th:only-of-type {\n",
              "        vertical-align: middle;\n",
              "    }\n",
              "\n",
              "    .dataframe tbody tr th {\n",
              "        vertical-align: top;\n",
              "    }\n",
              "\n",
              "    .dataframe thead th {\n",
              "        text-align: right;\n",
              "    }\n",
              "</style>\n",
              "<table border=\"1\" class=\"dataframe\">\n",
              "  <thead>\n",
              "    <tr style=\"text-align: right;\">\n",
              "      <th></th>\n",
              "      <th>video_name</th>\n",
              "      <th>thumbnail</th>\n",
              "      <th>category_id</th>\n",
              "      <th>IMAGE+TEXT</th>\n",
              "      <th>IMAGE</th>\n",
              "      <th>TEXT</th>\n",
              "    </tr>\n",
              "  </thead>\n",
              "  <tbody>\n",
              "    <tr>\n",
              "      <th>2</th>\n",
              "      <td>라이너LIVE 3월 첫 라이브입니다</td>\n",
              "      <td>https://i.ytimg.com/vi/Zd5fkcot13I/hqdefault.j...</td>\n",
              "      <td>3</td>\n",
              "      <td>3</td>\n",
              "      <td>3</td>\n",
              "      <td>4</td>\n",
              "    </tr>\n",
              "    <tr>\n",
              "      <th>10</th>\n",
              "      <td>노루 귀에 진드기가 있어요 | 체온이 41도..</td>\n",
              "      <td>https://i.ytimg.com/vi/Gd1uKJ6YwPQ/hqdefault.j...</td>\n",
              "      <td>4</td>\n",
              "      <td>4</td>\n",
              "      <td>4</td>\n",
              "      <td>2</td>\n",
              "    </tr>\n",
              "    <tr>\n",
              "      <th>19</th>\n",
              "      <td>[뉴스3] 시진핑 내년 방한, 사드 갈등 회복?</td>\n",
              "      <td>https://i.ytimg.com/vi/JTMRzJHzXFI/hqdefault.j...</td>\n",
              "      <td>1</td>\n",
              "      <td>1</td>\n",
              "      <td>1</td>\n",
              "      <td>5</td>\n",
              "    </tr>\n",
              "    <tr>\n",
              "      <th>37</th>\n",
              "      <td>리트리버를 키울때 알아야 할 점 🐶</td>\n",
              "      <td>https://i.ytimg.com/vi/C2mVayH1pFw/hqdefault.j...</td>\n",
              "      <td>4</td>\n",
              "      <td>4</td>\n",
              "      <td>4</td>\n",
              "      <td>2</td>\n",
              "    </tr>\n",
              "    <tr>\n",
              "      <th>45</th>\n",
              "      <td>맛+영양+모찌마음 한번에 잡은 강아지 간식?? | 짜먹는 한입뚝딱 황태맛</td>\n",
              "      <td>https://i.ytimg.com/vi/ZU1lIgAg1fQ/hqdefault.j...</td>\n",
              "      <td>4</td>\n",
              "      <td>4</td>\n",
              "      <td>4</td>\n",
              "      <td>0</td>\n",
              "    </tr>\n",
              "    <tr>\n",
              "      <th>...</th>\n",
              "      <td>...</td>\n",
              "      <td>...</td>\n",
              "      <td>...</td>\n",
              "      <td>...</td>\n",
              "      <td>...</td>\n",
              "      <td>...</td>\n",
              "    </tr>\n",
              "    <tr>\n",
              "      <th>2719</th>\n",
              "      <td>국밥보다 든든한 닭갈비를 만드는 물팁</td>\n",
              "      <td>https://i.ytimg.com/vi/axqPFwQ7kMM/hqdefault.j...</td>\n",
              "      <td>0</td>\n",
              "      <td>0</td>\n",
              "      <td>0</td>\n",
              "      <td>2</td>\n",
              "    </tr>\n",
              "    <tr>\n",
              "      <th>2722</th>\n",
              "      <td>자칫 잘못하면 공중분해 되게 생긴 토트넘 라이프치히 챔스 리뷰</td>\n",
              "      <td>https://i.ytimg.com/vi/5uYBRteZZ2o/hqdefault.j...</td>\n",
              "      <td>6</td>\n",
              "      <td>6</td>\n",
              "      <td>6</td>\n",
              "      <td>3</td>\n",
              "    </tr>\n",
              "    <tr>\n",
              "      <th>2763</th>\n",
              "      <td>테니스공을 코앞에서 던져도 피한다길래 진짜 던져봄 ㅋㅋㅋㅋㅋ</td>\n",
              "      <td>https://i.ytimg.com/vi/u9WCluvc724/hqdefault.j...</td>\n",
              "      <td>6</td>\n",
              "      <td>6</td>\n",
              "      <td>6</td>\n",
              "      <td>2</td>\n",
              "    </tr>\n",
              "    <tr>\n",
              "      <th>2764</th>\n",
              "      <td>수천만마리의 잉어를 만들어보았다[양어장vlog2]</td>\n",
              "      <td>https://i.ytimg.com/vi/TAu167p8MGo/hqdefault.j...</td>\n",
              "      <td>4</td>\n",
              "      <td>4</td>\n",
              "      <td>4</td>\n",
              "      <td>2</td>\n",
              "    </tr>\n",
              "    <tr>\n",
              "      <th>2768</th>\n",
              "      <td>파프리카 이것 참참참~! 파프리카로 만드는 버거의 신세계로 드루와 ★</td>\n",
              "      <td>https://i.ytimg.com/vi/yV-yUIDiU_c/hqdefault.j...</td>\n",
              "      <td>0</td>\n",
              "      <td>0</td>\n",
              "      <td>0</td>\n",
              "      <td>2</td>\n",
              "    </tr>\n",
              "  </tbody>\n",
              "</table>\n",
              "<p>231 rows × 6 columns</p>\n",
              "</div>"
            ],
            "text/plain": [
              "                                    video_name  ... TEXT\n",
              "2                          라이너LIVE 3월 첫 라이브입니다  ...    4\n",
              "10                  노루 귀에 진드기가 있어요 | 체온이 41도..  ...    2\n",
              "19                  [뉴스3] 시진핑 내년 방한, 사드 갈등 회복?  ...    5\n",
              "37                         리트리버를 키울때 알아야 할 점 🐶  ...    2\n",
              "45    맛+영양+모찌마음 한번에 잡은 강아지 간식?? | 짜먹는 한입뚝딱 황태맛  ...    0\n",
              "...                                        ...  ...  ...\n",
              "2719                      국밥보다 든든한 닭갈비를 만드는 물팁  ...    2\n",
              "2722        자칫 잘못하면 공중분해 되게 생긴 토트넘 라이프치히 챔스 리뷰  ...    3\n",
              "2763         테니스공을 코앞에서 던져도 피한다길래 진짜 던져봄 ㅋㅋㅋㅋㅋ  ...    2\n",
              "2764               수천만마리의 잉어를 만들어보았다[양어장vlog2]  ...    2\n",
              "2768    파프리카 이것 참참참~! 파프리카로 만드는 버거의 신세계로 드루와 ★  ...    2\n",
              "\n",
              "[231 rows x 6 columns]"
            ]
          },
          "metadata": {
            "tags": []
          },
          "execution_count": 131
        }
      ]
    },
    {
      "cell_type": "code",
      "metadata": {
        "id": "BUklYfzbKzna",
        "colab_type": "code",
        "outputId": "f96d15ac-23da-42a2-af36-ab580fc9df64",
        "colab": {
          "base_uri": "https://localhost:8080/",
          "height": 88
        }
      },
      "source": [
        "pred_df[case2_mask].iloc[10,0],pred_df[case2_mask].iloc[10,1], pred_df[case2_mask].iloc[10,2],  pred_df[case2_mask].iloc[10,5]"
      ],
      "execution_count": 0,
      "outputs": [
        {
          "output_type": "execute_result",
          "data": {
            "text/plain": [
              "('잠깐 들어와보세요, 얘네 둘이 뭐 할 말 있다는데요?',\n",
              " 'https://i.ytimg.com/vi/x8zPAU6HlVE/hqdefault.jpg?sqp=-oaymwEZCNACELwBSFXyq4qpAwsIARUAAIhCGAFwAQ==&rs=AOn4CLD2sjedK96hXDeYgjRpJ4HOsoHgng',\n",
              " 4,\n",
              " 2)"
            ]
          },
          "metadata": {
            "tags": []
          },
          "execution_count": 138
        }
      ]
    },
    {
      "cell_type": "code",
      "metadata": {
        "id": "Wh2rms05JP0l",
        "colab_type": "code",
        "outputId": "0357101a-86cf-4cf9-9e5e-ad5a8fd8e969",
        "colab": {
          "base_uri": "https://localhost:8080/",
          "height": 52
        }
      },
      "source": [
        "pred_df.iloc[2,0], pred_df.iloc[2,1]"
      ],
      "execution_count": 0,
      "outputs": [
        {
          "output_type": "execute_result",
          "data": {
            "text/plain": [
              "('라이너LIVE 3월 첫 라이브입니다',\n",
              " 'https://i.ytimg.com/vi/Zd5fkcot13I/hqdefault.jpg?sqp=-oaymwEZCNACELwBSFXyq4qpAwsIARUAAIhCGAFwAQ==&rs=AOn4CLAfUk27WHhUmeBQ4Rx-sCvYSoNM_g')"
            ]
          },
          "metadata": {
            "tags": []
          },
          "execution_count": 112
        }
      ]
    },
    {
      "cell_type": "markdown",
      "metadata": {
        "id": "5yKlsv3HHjeD",
        "colab_type": "text"
      },
      "source": [
        "## Case 3. 전부 오예측"
      ]
    },
    {
      "cell_type": "code",
      "metadata": {
        "colab_type": "code",
        "id": "OzCW0YROMSF7",
        "colab": {}
      },
      "source": [
        "case3_mask = (pred_df.iloc[:,2] != pred_df.iloc[:,3] ) & ( pred_df.iloc[:,2] != pred_df.iloc[:,4] ) & (pred_df.iloc[:,2] != pred_df.iloc[:,5] )"
      ],
      "execution_count": 0,
      "outputs": []
    },
    {
      "cell_type": "code",
      "metadata": {
        "colab_type": "code",
        "outputId": "f90bd282-710b-4f6a-b917-bd7b46e7e01c",
        "id": "rdwTZYdMMSGb",
        "colab": {
          "base_uri": "https://localhost:8080/",
          "height": 399
        }
      },
      "source": [
        "pred_df[case3_mask]"
      ],
      "execution_count": 0,
      "outputs": [
        {
          "output_type": "execute_result",
          "data": {
            "text/html": [
              "<div>\n",
              "<style scoped>\n",
              "    .dataframe tbody tr th:only-of-type {\n",
              "        vertical-align: middle;\n",
              "    }\n",
              "\n",
              "    .dataframe tbody tr th {\n",
              "        vertical-align: top;\n",
              "    }\n",
              "\n",
              "    .dataframe thead th {\n",
              "        text-align: right;\n",
              "    }\n",
              "</style>\n",
              "<table border=\"1\" class=\"dataframe\">\n",
              "  <thead>\n",
              "    <tr style=\"text-align: right;\">\n",
              "      <th></th>\n",
              "      <th>video_name</th>\n",
              "      <th>thumbnail</th>\n",
              "      <th>category_id</th>\n",
              "      <th>IMAGE+TEXT</th>\n",
              "      <th>IMAGE</th>\n",
              "      <th>TEXT</th>\n",
              "    </tr>\n",
              "  </thead>\n",
              "  <tbody>\n",
              "    <tr>\n",
              "      <th>24</th>\n",
              "      <td>상속 VS 증여, 어느 쪽이 유리 할까?</td>\n",
              "      <td>https://i.ytimg.com/vi/SqYP4W9fR70/hqdefault.j...</td>\n",
              "      <td>1</td>\n",
              "      <td>5</td>\n",
              "      <td>6</td>\n",
              "      <td>2</td>\n",
              "    </tr>\n",
              "    <tr>\n",
              "      <th>91</th>\n",
              "      <td>가까이서 본 계체량 현장 - 샤밀 자브로프 / 굽네몰 ROAD FC 056</td>\n",
              "      <td>https://i.ytimg.com/vi/rb6woP8OWf4/hqdefault.j...</td>\n",
              "      <td>6</td>\n",
              "      <td>5</td>\n",
              "      <td>5</td>\n",
              "      <td>5</td>\n",
              "    </tr>\n",
              "    <tr>\n",
              "      <th>112</th>\n",
              "      <td>아름다운 세상을 만드는 행복한 방송</td>\n",
              "      <td>https://i.ytimg.com/vi/SsAqrXHmkAM/hqdefault.j...</td>\n",
              "      <td>5</td>\n",
              "      <td>0</td>\n",
              "      <td>1</td>\n",
              "      <td>2</td>\n",
              "    </tr>\n",
              "    <tr>\n",
              "      <th>135</th>\n",
              "      <td>경------------------------축</td>\n",
              "      <td>https://i.ytimg.com/vi/bCvTz6cFNUU/hqdefault.j...</td>\n",
              "      <td>4</td>\n",
              "      <td>6</td>\n",
              "      <td>3</td>\n",
              "      <td>2</td>\n",
              "    </tr>\n",
              "    <tr>\n",
              "      <th>139</th>\n",
              "      <td>더이상 스테이크를 못굽게 되었습니다</td>\n",
              "      <td>https://i.ytimg.com/vi/xiifArh1HHg/hqdefault.j...</td>\n",
              "      <td>0</td>\n",
              "      <td>6</td>\n",
              "      <td>4</td>\n",
              "      <td>2</td>\n",
              "    </tr>\n",
              "    <tr>\n",
              "      <th>...</th>\n",
              "      <td>...</td>\n",
              "      <td>...</td>\n",
              "      <td>...</td>\n",
              "      <td>...</td>\n",
              "      <td>...</td>\n",
              "      <td>...</td>\n",
              "    </tr>\n",
              "    <tr>\n",
              "      <th>2682</th>\n",
              "      <td>[킴앤정TV] Ep.19-2 MMA 지옥에 당도한 것을 환영하오 낯선이여</td>\n",
              "      <td>https://i.ytimg.com/vi/1qa6gKZnO3k/hqdefault.j...</td>\n",
              "      <td>6</td>\n",
              "      <td>3</td>\n",
              "      <td>3</td>\n",
              "      <td>2</td>\n",
              "    </tr>\n",
              "    <tr>\n",
              "      <th>2756</th>\n",
              "      <td>성공주문을걸어라 Place a success order</td>\n",
              "      <td>https://i.ytimg.com/vi/5EHKZy1e4e4/hqdefault.j...</td>\n",
              "      <td>0</td>\n",
              "      <td>5</td>\n",
              "      <td>3</td>\n",
              "      <td>2</td>\n",
              "    </tr>\n",
              "    <tr>\n",
              "      <th>2769</th>\n",
              "      <td>KBO 역대급 진기록 BEST5</td>\n",
              "      <td>https://i.ytimg.com/vi/O0jz5La_49o/hqdefault.j...</td>\n",
              "      <td>6</td>\n",
              "      <td>5</td>\n",
              "      <td>2</td>\n",
              "      <td>2</td>\n",
              "    </tr>\n",
              "    <tr>\n",
              "      <th>2772</th>\n",
              "      <td>스포티걸과 함께 파티를 가야한다면? [노각오이세계 #2-1]</td>\n",
              "      <td>https://i.ytimg.com/vi/Pza3mydTCAw/hqdefault.j...</td>\n",
              "      <td>2</td>\n",
              "      <td>3</td>\n",
              "      <td>3</td>\n",
              "      <td>4</td>\n",
              "    </tr>\n",
              "    <tr>\n",
              "      <th>2779</th>\n",
              "      <td>[골목식당 거제도] 백종원 뒤통수? 솔루션 직후 초심 잃기 전 후기</td>\n",
              "      <td>https://i.ytimg.com/vi/utoVCebrqNI/hqdefault.j...</td>\n",
              "      <td>0</td>\n",
              "      <td>2</td>\n",
              "      <td>6</td>\n",
              "      <td>2</td>\n",
              "    </tr>\n",
              "  </tbody>\n",
              "</table>\n",
              "<p>124 rows × 6 columns</p>\n",
              "</div>"
            ],
            "text/plain": [
              "                                     video_name  ... TEXT\n",
              "24                       상속 VS 증여, 어느 쪽이 유리 할까?  ...    2\n",
              "91    가까이서 본 계체량 현장 - 샤밀 자브로프 / 굽네몰 ROAD FC 056  ...    5\n",
              "112                         아름다운 세상을 만드는 행복한 방송  ...    2\n",
              "135                  경------------------------축  ...    2\n",
              "139                         더이상 스테이크를 못굽게 되었습니다  ...    2\n",
              "...                                         ...  ...  ...\n",
              "2682   [킴앤정TV] Ep.19-2 MMA 지옥에 당도한 것을 환영하오 낯선이여  ...    2\n",
              "2756             성공주문을걸어라 Place a success order  ...    2\n",
              "2769                          KBO 역대급 진기록 BEST5  ...    2\n",
              "2772          스포티걸과 함께 파티를 가야한다면? [노각오이세계 #2-1]  ...    4\n",
              "2779      [골목식당 거제도] 백종원 뒤통수? 솔루션 직후 초심 잃기 전 후기  ...    2\n",
              "\n",
              "[124 rows x 6 columns]"
            ]
          },
          "metadata": {
            "tags": []
          },
          "execution_count": 135
        }
      ]
    },
    {
      "cell_type": "code",
      "metadata": {
        "id": "ovSHOeyfHsuy",
        "colab_type": "code",
        "outputId": "94c90198-d17d-4022-da24-13dcbf90b0d5",
        "colab": {
          "base_uri": "https://localhost:8080/",
          "height": 88
        }
      },
      "source": [
        "pred_df[case3_mask].iloc[10,0],pred_df[case3_mask].iloc[10,1], pred_df[case3_mask].iloc[10,2],  pred_df[case3_mask].iloc[10,5]"
      ],
      "execution_count": 0,
      "outputs": [
        {
          "output_type": "execute_result",
          "data": {
            "text/plain": [
              "('키다리형 영국가다',\n",
              " 'https://i.ytimg.com/vi/wJO2GSnan_Q/hqdefault.jpg?sqp=-oaymwEZCNACELwBSFXyq4qpAwsIARUAAIhCGAFwAQ==&rs=AOn4CLAK7eZ1vhHee715BA8lmSXp5YWivQ',\n",
              " 6,\n",
              " 2)"
            ]
          },
          "metadata": {
            "tags": []
          },
          "execution_count": 141
        }
      ]
    },
    {
      "cell_type": "code",
      "metadata": {
        "id": "lIJnXRghPsjb",
        "colab_type": "code",
        "outputId": "c78f7102-a4f3-4dd3-fd4f-dbcd2a230000",
        "colab": {
          "base_uri": "https://localhost:8080/",
          "height": 35
        }
      },
      "source": [
        "pred_df[case3_mask].iloc[10,3], pred_df[case3_mask].iloc[10,4]"
      ],
      "execution_count": 0,
      "outputs": [
        {
          "output_type": "execute_result",
          "data": {
            "text/plain": [
              "(5, 4)"
            ]
          },
          "metadata": {
            "tags": []
          },
          "execution_count": 145
        }
      ]
    },
    {
      "cell_type": "code",
      "metadata": {
        "id": "-7294tNgOkMF",
        "colab_type": "code",
        "outputId": "7db3d39e-5f43-42a1-c159-21be9b1d7f14",
        "colab": {
          "base_uri": "https://localhost:8080/",
          "height": 88
        }
      },
      "source": [
        "pred_df[case3_mask].iloc[20,0],pred_df[case3_mask].iloc[20,1], pred_df[case3_mask].iloc[20,2],  pred_df[case3_mask].iloc[20,5]"
      ],
      "execution_count": 0,
      "outputs": [
        {
          "output_type": "execute_result",
          "data": {
            "text/plain": [
              "('무에타이 무시한 취객 관광객의 최후 ㄷㄷ',\n",
              " 'https://i.ytimg.com/vi/_kDCGutUbNw/hqdefault.jpg?sqp=-oaymwEZCNACELwBSFXyq4qpAwsIARUAAIhCGAFwAQ==&rs=AOn4CLD3uYKzqEkOtQQUr_XKAKBKUv0Qfg',\n",
              " 6,\n",
              " 2)"
            ]
          },
          "metadata": {
            "tags": []
          },
          "execution_count": 144
        }
      ]
    },
    {
      "cell_type": "code",
      "metadata": {
        "id": "5UOES-PcOpPz",
        "colab_type": "code",
        "outputId": "082e6e6c-1c6f-4d9b-a27c-b6fabf481b44",
        "colab": {
          "base_uri": "https://localhost:8080/",
          "height": 35
        }
      },
      "source": [
        "pred_df[case3_mask].iloc[20,3],  pred_df[case3_mask].iloc[20,4]"
      ],
      "execution_count": 0,
      "outputs": [
        {
          "output_type": "execute_result",
          "data": {
            "text/plain": [
              "(2, 2)"
            ]
          },
          "metadata": {
            "tags": []
          },
          "execution_count": 146
        }
      ]
    },
    {
      "cell_type": "code",
      "metadata": {
        "id": "2jZxQQ4QP-BO",
        "colab_type": "code",
        "colab": {}
      },
      "source": [
        ""
      ],
      "execution_count": 0,
      "outputs": []
    }
  ]
}