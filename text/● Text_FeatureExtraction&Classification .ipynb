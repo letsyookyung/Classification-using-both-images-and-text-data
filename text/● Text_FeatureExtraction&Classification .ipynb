{
 "cells": [
  {
   "cell_type": "code",
   "execution_count": 0,
   "metadata": {
    "colab": {
     "base_uri": "https://localhost:8080/",
     "height": 126
    },
    "colab_type": "code",
    "id": "ELLHm4VAmEjh",
    "outputId": "40c70fca-f078-482e-ab5a-5105ff747519"
   },
   "outputs": [
    {
     "name": "stdout",
     "output_type": "stream",
     "text": [
      "Go to this URL in a browser: https://accounts.google.com/o/oauth2/auth?client_id=947318989803-6bn6qk8qdgf4n4g3pfee6491hc0brc4i.apps.googleusercontent.com&redirect_uri=urn%3aietf%3awg%3aoauth%3a2.0%3aoob&response_type=code&scope=email%20https%3a%2f%2fwww.googleapis.com%2fauth%2fdocs.test%20https%3a%2f%2fwww.googleapis.com%2fauth%2fdrive%20https%3a%2f%2fwww.googleapis.com%2fauth%2fdrive.photos.readonly%20https%3a%2f%2fwww.googleapis.com%2fauth%2fpeopleapi.readonly\n",
      "\n",
      "Enter your authorization code:\n",
      "··········\n",
      "Mounted at /content/drive\n"
     ]
    }
   ],
   "source": [
    "from google.colab import drive\n",
    "drive.mount('/content/drive')"
   ]
  },
  {
   "cell_type": "code",
   "execution_count": 0,
   "metadata": {
    "colab": {
     "base_uri": "https://localhost:8080/",
     "height": 70
    },
    "colab_type": "code",
    "id": "FkvvjaBKpfJa",
    "outputId": "401d0db7-85c3-4266-cdea-7a22eb0ab4cd"
   },
   "outputs": [
    {
     "name": "stdout",
     "output_type": "stream",
     "text": [
      "ls: cannot access 'content': No such file or directory\n",
      "drive:\n",
      "'My Drive'  'Shared drives'\n"
     ]
    }
   ],
   "source": [
    "!ls content drive"
   ]
  },
  {
   "cell_type": "code",
   "execution_count": 0,
   "metadata": {
    "colab": {
     "base_uri": "https://localhost:8080/",
     "height": 52
    },
    "colab_type": "code",
    "id": "5Sm2HbEIpln4",
    "outputId": "94a79a97-122c-46f5-d5db-63d34b51a9a6"
   },
   "outputs": [
    {
     "name": "stderr",
     "output_type": "stream",
     "text": [
      "/usr/local/lib/python3.6/dist-packages/statsmodels/tools/_testing.py:19: FutureWarning: pandas.util.testing is deprecated. Use the functions in the public API at pandas.testing instead.\n",
      "  import pandas.util.testing as tm\n"
     ]
    }
   ],
   "source": [
    "import pandas as pd\n",
    "import numpy as np\n",
    "import matplotlib.pyplot as plt\n",
    "import seaborn as sns"
   ]
  },
  {
   "cell_type": "markdown",
   "metadata": {
    "colab_type": "text",
    "id": "9u0PJQQsJfYt"
   },
   "source": [
    "### 데이터 불러오기"
   ]
  },
  {
   "cell_type": "code",
   "execution_count": 0,
   "metadata": {
    "colab": {
     "base_uri": "https://localhost:8080/",
     "height": 1000
    },
    "colab_type": "code",
    "id": "d6KK8GxDpnTr",
    "outputId": "12ec7a11-0f77-4def-9ae1-dd41737a4383"
   },
   "outputs": [
    {
     "data": {
      "text/html": [
       "<div>\n",
       "<style scoped>\n",
       "    .dataframe tbody tr th:only-of-type {\n",
       "        vertical-align: middle;\n",
       "    }\n",
       "\n",
       "    .dataframe tbody tr th {\n",
       "        vertical-align: top;\n",
       "    }\n",
       "\n",
       "    .dataframe thead th {\n",
       "        text-align: right;\n",
       "    }\n",
       "</style>\n",
       "<table border=\"1\" class=\"dataframe\">\n",
       "  <thead>\n",
       "    <tr style=\"text-align: right;\">\n",
       "      <th></th>\n",
       "      <th>Unnamed: 0</th>\n",
       "      <th>Unnamed: 0.1</th>\n",
       "      <th>channel_name</th>\n",
       "      <th>subscribers</th>\n",
       "      <th>video_name</th>\n",
       "      <th>days_after_upload</th>\n",
       "      <th>video_duration</th>\n",
       "      <th>hits</th>\n",
       "      <th>likes_num</th>\n",
       "      <th>dislikes_num</th>\n",
       "      <th>category_id</th>\n",
       "      <th>thumbnail</th>\n",
       "    </tr>\n",
       "  </thead>\n",
       "  <tbody>\n",
       "    <tr>\n",
       "      <th>0</th>\n",
       "      <td>0</td>\n",
       "      <td>0</td>\n",
       "      <td>복덩이</td>\n",
       "      <td>104000</td>\n",
       "      <td>너무나맛있는 '알타리묵은지찜과' \"앞치마에그림\" Altari old paper st...</td>\n",
       "      <td>10</td>\n",
       "      <td>311</td>\n",
       "      <td>1126</td>\n",
       "      <td>40</td>\n",
       "      <td>1</td>\n",
       "      <td>0</td>\n",
       "      <td>https://i.ytimg.com/vi/al52wJgMGyI/hqdefault.j...</td>\n",
       "    </tr>\n",
       "    <tr>\n",
       "      <th>1</th>\n",
       "      <td>1</td>\n",
       "      <td>1</td>\n",
       "      <td>복덩이</td>\n",
       "      <td>104000</td>\n",
       "      <td>헌옷으로만든 [앞치마]와 '민들레' 겉절이 'Apron' made with old ...</td>\n",
       "      <td>11</td>\n",
       "      <td>416</td>\n",
       "      <td>1067</td>\n",
       "      <td>85</td>\n",
       "      <td>3</td>\n",
       "      <td>0</td>\n",
       "      <td>https://i.ytimg.com/vi/-xx7shznKec/hqdefault.j...</td>\n",
       "    </tr>\n",
       "    <tr>\n",
       "      <th>2</th>\n",
       "      <td>2</td>\n",
       "      <td>2</td>\n",
       "      <td>복덩이</td>\n",
       "      <td>104000</td>\n",
       "      <td>탈모와다이어트에 탁월한고급진 '느타리버섯볶음' 과 프로방스 창문그리기 Stir-fr...</td>\n",
       "      <td>12</td>\n",
       "      <td>265</td>\n",
       "      <td>860</td>\n",
       "      <td>64</td>\n",
       "      <td>0</td>\n",
       "      <td>0</td>\n",
       "      <td>https://i.ytimg.com/vi/m7KC7oEKKuo/hqdefault.j...</td>\n",
       "    </tr>\n",
       "    <tr>\n",
       "      <th>3</th>\n",
       "      <td>3</td>\n",
       "      <td>3</td>\n",
       "      <td>복덩이</td>\n",
       "      <td>104000</td>\n",
       "      <td>감기 면연력 간기능보호에 탁월한 '도라지튀김' '민들레튀김' '라벤다그리기' Fri...</td>\n",
       "      <td>13</td>\n",
       "      <td>419</td>\n",
       "      <td>1116</td>\n",
       "      <td>76</td>\n",
       "      <td>1</td>\n",
       "      <td>0</td>\n",
       "      <td>https://i.ytimg.com/vi/FYeuMGEgNWA/hqdefault.j...</td>\n",
       "    </tr>\n",
       "    <tr>\n",
       "      <th>4</th>\n",
       "      <td>4</td>\n",
       "      <td>4</td>\n",
       "      <td>복덩이</td>\n",
       "      <td>104000</td>\n",
       "      <td>진달래화전 부침 복덩이표 바삭바삭한  쫀득쫀득비법공개</td>\n",
       "      <td>14</td>\n",
       "      <td>287</td>\n",
       "      <td>622</td>\n",
       "      <td>47</td>\n",
       "      <td>2</td>\n",
       "      <td>0</td>\n",
       "      <td>https://i.ytimg.com/vi/UjLKW2fjkyA/hqdefault.j...</td>\n",
       "    </tr>\n",
       "    <tr>\n",
       "      <th>...</th>\n",
       "      <td>...</td>\n",
       "      <td>...</td>\n",
       "      <td>...</td>\n",
       "      <td>...</td>\n",
       "      <td>...</td>\n",
       "      <td>...</td>\n",
       "      <td>...</td>\n",
       "      <td>...</td>\n",
       "      <td>...</td>\n",
       "      <td>...</td>\n",
       "      <td>...</td>\n",
       "      <td>...</td>\n",
       "    </tr>\n",
       "    <tr>\n",
       "      <th>13680</th>\n",
       "      <td>31680</td>\n",
       "      <td>31680</td>\n",
       "      <td>키다리형</td>\n",
       "      <td>44000</td>\n",
       "      <td>[VLOG] 체지방 한자릿수 유지식단::뭐든지 과하면 독이다  :: 추억의 VLOG</td>\n",
       "      <td>424</td>\n",
       "      <td>601</td>\n",
       "      <td>47391</td>\n",
       "      <td>554</td>\n",
       "      <td>18</td>\n",
       "      <td>6</td>\n",
       "      <td>https://i.ytimg.com/vi/gPEWgwBoT6I/hqdefault.j...</td>\n",
       "    </tr>\n",
       "    <tr>\n",
       "      <th>13681</th>\n",
       "      <td>31681</td>\n",
       "      <td>31681</td>\n",
       "      <td>키다리형</td>\n",
       "      <td>44000</td>\n",
       "      <td>[키용소 2화] 그들의 입맛을 사로잡은 식단 대공개 (맛있게 다이어트하자)</td>\n",
       "      <td>426</td>\n",
       "      <td>1146</td>\n",
       "      <td>52216</td>\n",
       "      <td>959</td>\n",
       "      <td>18</td>\n",
       "      <td>6</td>\n",
       "      <td>https://i.ytimg.com/vi/p7Ssy5gB_5A/hqdefault.j...</td>\n",
       "    </tr>\n",
       "    <tr>\n",
       "      <th>13682</th>\n",
       "      <td>31682</td>\n",
       "      <td>31682</td>\n",
       "      <td>키다리형</td>\n",
       "      <td>44000</td>\n",
       "      <td>[실속2분팁] 덤벨로우 tip (넓고 두꺼운 등을 위하여)</td>\n",
       "      <td>427</td>\n",
       "      <td>142</td>\n",
       "      <td>118107</td>\n",
       "      <td>1300</td>\n",
       "      <td>29</td>\n",
       "      <td>6</td>\n",
       "      <td>https://i.ytimg.com/vi/PI7UN15-5K0/hqdefault.j...</td>\n",
       "    </tr>\n",
       "    <tr>\n",
       "      <th>13683</th>\n",
       "      <td>31683</td>\n",
       "      <td>31683</td>\n",
       "      <td>키다리형</td>\n",
       "      <td>44000</td>\n",
       "      <td>[키용소 1화] 살빼는방법을 모르겠어요 :: 위험한 계약</td>\n",
       "      <td>429</td>\n",
       "      <td>1282</td>\n",
       "      <td>78212</td>\n",
       "      <td>1600</td>\n",
       "      <td>42</td>\n",
       "      <td>6</td>\n",
       "      <td>https://i.ytimg.com/vi/iI4-fi64bss/hqdefault.j...</td>\n",
       "    </tr>\n",
       "    <tr>\n",
       "      <th>13684</th>\n",
       "      <td>31684</td>\n",
       "      <td>31684</td>\n",
       "      <td>키다리형</td>\n",
       "      <td>44000</td>\n",
       "      <td>[VLOG] 다이어트를 위한 식단과 운동 :: 키용소1기 친구들과 함께한 하루</td>\n",
       "      <td>432</td>\n",
       "      <td>454</td>\n",
       "      <td>55995</td>\n",
       "      <td>860</td>\n",
       "      <td>24</td>\n",
       "      <td>6</td>\n",
       "      <td>https://i.ytimg.com/vi/cgp-OT0CEKc/hqdefault.j...</td>\n",
       "    </tr>\n",
       "  </tbody>\n",
       "</table>\n",
       "<p>13685 rows × 12 columns</p>\n",
       "</div>"
      ],
      "text/plain": [
       "       Unnamed: 0  ...                                          thumbnail\n",
       "0               0  ...  https://i.ytimg.com/vi/al52wJgMGyI/hqdefault.j...\n",
       "1               1  ...  https://i.ytimg.com/vi/-xx7shznKec/hqdefault.j...\n",
       "2               2  ...  https://i.ytimg.com/vi/m7KC7oEKKuo/hqdefault.j...\n",
       "3               3  ...  https://i.ytimg.com/vi/FYeuMGEgNWA/hqdefault.j...\n",
       "4               4  ...  https://i.ytimg.com/vi/UjLKW2fjkyA/hqdefault.j...\n",
       "...           ...  ...                                                ...\n",
       "13680       31680  ...  https://i.ytimg.com/vi/gPEWgwBoT6I/hqdefault.j...\n",
       "13681       31681  ...  https://i.ytimg.com/vi/p7Ssy5gB_5A/hqdefault.j...\n",
       "13682       31682  ...  https://i.ytimg.com/vi/PI7UN15-5K0/hqdefault.j...\n",
       "13683       31683  ...  https://i.ytimg.com/vi/iI4-fi64bss/hqdefault.j...\n",
       "13684       31684  ...  https://i.ytimg.com/vi/cgp-OT0CEKc/hqdefault.j...\n",
       "\n",
       "[13685 rows x 12 columns]"
      ]
     },
     "execution_count": 5,
     "metadata": {
      "tags": []
     },
     "output_type": "execute_result"
    }
   ],
   "source": [
    "youtube_data = pd.read_csv(\"/content/drive/My Drive/Colab Notebooks/small_total_train_set.csv\")\n",
    "youtube_data"
   ]
  },
  {
   "cell_type": "code",
   "execution_count": 0,
   "metadata": {
    "colab": {},
    "colab_type": "code",
    "id": "I4qF3M_VqMYY"
   },
   "outputs": [],
   "source": [
    "youtube_data = youtube_data[['video_name','category_id']]"
   ]
  },
  {
   "cell_type": "code",
   "execution_count": 0,
   "metadata": {
    "colab": {
     "base_uri": "https://localhost:8080/",
     "height": 34
    },
    "colab_type": "code",
    "id": "f076z38iqNoB",
    "outputId": "cbc1014a-808a-4f91-a2cd-a27007417ffd"
   },
   "outputs": [
    {
     "name": "stdout",
     "output_type": "stream",
     "text": [
      "False\n"
     ]
    }
   ],
   "source": [
    "print(youtube_data.isnull().values.any())"
   ]
  },
  {
   "cell_type": "code",
   "execution_count": 0,
   "metadata": {
    "colab": {
     "base_uri": "https://localhost:8080/",
     "height": 160
    },
    "colab_type": "code",
    "id": "Ht2WBPagKQiR",
    "outputId": "fd683c20-bc5e-479c-f4dd-2993e1a87dcb"
   },
   "outputs": [
    {
     "data": {
      "text/plain": [
       "5    3582\n",
       "0    2040\n",
       "6    2028\n",
       "2    1897\n",
       "4    1871\n",
       "1    1777\n",
       "3     490\n",
       "Name: category_id, dtype: int64"
      ]
     },
     "execution_count": 11,
     "metadata": {
      "tags": []
     },
     "output_type": "execute_result"
    }
   ],
   "source": [
    "youtube_data['category_id'].value_counts()"
   ]
  },
  {
   "cell_type": "markdown",
   "metadata": {
    "colab_type": "text",
    "id": "tc3qWSw3JiUi"
   },
   "source": [
    "### 텍스트 전처리"
   ]
  },
  {
   "cell_type": "code",
   "execution_count": 0,
   "metadata": {
    "colab": {},
    "colab_type": "code",
    "id": "yugBrCrQqQIa"
   },
   "outputs": [],
   "source": [
    "!pip install soynlp\n",
    "# 패키지 설치"
   ]
  },
  {
   "cell_type": "markdown",
   "metadata": {
    "colab_type": "text",
    "id": "3TsoLvc-mXFV"
   },
   "source": [
    "#### 정규화"
   ]
  },
  {
   "cell_type": "code",
   "execution_count": 0,
   "metadata": {
    "colab": {},
    "colab_type": "code",
    "id": "yL_RKk21qZhu"
   },
   "outputs": [],
   "source": [
    "from soynlp.normalizer import *\n",
    "# 정규화 도구 import"
   ]
  },
  {
   "cell_type": "code",
   "execution_count": 0,
   "metadata": {
    "colab": {},
    "colab_type": "code",
    "id": "7e_gQ7fQqcGi"
   },
   "outputs": [],
   "source": [
    "for i in youtube_data.index:\n",
    "  youtube_data['video_name'][i] = emoticon_normalize(youtube_data['video_name'][i],num_repeats=0)\n",
    "# 반복되는 이모티콘 제거하기\n",
    "  youtube_data['video_name'][i] = repeat_normalize(youtube_data['video_name'][i],num_repeats=0)\n",
    "    # 반복되는 단어 길이 제한하기\n",
    "  youtube_data['video_name'][i] = only_hangle(youtube_data['video_name'][i])\n",
    "# 한글만 남기고 다 제거하기"
   ]
  },
  {
   "cell_type": "code",
   "execution_count": 0,
   "metadata": {
    "colab": {},
    "colab_type": "code",
    "id": "zGHt54KNqfyx"
   },
   "outputs": [],
   "source": [
    "youtube_data"
   ]
  },
  {
   "cell_type": "code",
   "execution_count": 0,
   "metadata": {
    "colab": {},
    "colab_type": "code",
    "id": "qexrhdQ9mPSO"
   },
   "outputs": [],
   "source": [
    "titles = list(youtube_data.video_name)\n",
    "id_num = list(youtube_data.category_id)\n",
    "\n",
    "# id_num label로 분리하기"
   ]
  },
  {
   "cell_type": "markdown",
   "metadata": {
    "colab_type": "text",
    "id": "hWu6j1lImS1Z"
   },
   "source": [
    "#### Stopwords"
   ]
  },
  {
   "cell_type": "code",
   "execution_count": 0,
   "metadata": {
    "colab": {},
    "colab_type": "code",
    "id": "5e88G57SqSGE"
   },
   "outputs": [],
   "source": [
    "s_file_name = open('/content/drive/My Drive/Colab Notebooks/ko/stopwords.txt','r',encoding='utf-8')"
   ]
  },
  {
   "cell_type": "code",
   "execution_count": 0,
   "metadata": {
    "colab": {},
    "colab_type": "code",
    "id": "9CkD1hsgqVnr"
   },
   "outputs": [],
   "source": [
    "stop_words = []\n",
    "for line in s_file_name.readlines():\n",
    "  stop_words.append(line.rstrip())\n",
    "s_file_name.close()"
   ]
  },
  {
   "cell_type": "code",
   "execution_count": 0,
   "metadata": {
    "colab": {},
    "colab_type": "code",
    "id": "5tkN9x3ZqWuw"
   },
   "outputs": [],
   "source": [
    "print(len(stop_words))\n",
    "\n",
    "# 불용어 제거하기"
   ]
  },
  {
   "cell_type": "markdown",
   "metadata": {
    "colab_type": "text",
    "id": "SWfUzVgGJmPJ"
   },
   "source": [
    "#### Tokenize"
   ]
  },
  {
   "cell_type": "code",
   "execution_count": 0,
   "metadata": {
    "colab": {},
    "colab_type": "code",
    "id": "b76IQ0-a4M7k"
   },
   "outputs": [],
   "source": [
    "from soynlp.word import WordExtractor\n",
    "\n",
    "word_extractor = WordExtractor()\n",
    "word_extractor.train(titles) # titles = 제목\n",
    "word_score = word_extractor.extract() # 토크나이저를 위해 통계 학습"
   ]
  },
  {
   "cell_type": "code",
   "execution_count": 0,
   "metadata": {
    "colab": {},
    "colab_type": "code",
    "id": "-VSCrlg24M4L"
   },
   "outputs": [],
   "source": [
    "from soynlp.tokenizer import MaxScoreTokenizer\n",
    "word_scores = {word:score.cohesion_forward for word, score in word_score.items()} # 학습된 score 중 cohesion forward 선택\n",
    "word_tokenizer = MaxScoreTokenizer(scores=word_scores) # word_scores의 통계량을 기준으로 토크나이즈\n",
    "\n",
    "word_token = []\n",
    "for sentence in titles:\n",
    "    temp_X = word_tokenizer.tokenize(sentence, flatten=True) # 토큰화\n",
    "    temp_X = [word for word in temp_X if not word in stop_words] # 불용어 제거\n",
    "    word_token.append(temp_X) # 토큰화 된 단어를 문장 단위로 리스트화 [[],[],..[]]"
   ]
  },
  {
   "cell_type": "code",
   "execution_count": 0,
   "metadata": {
    "colab": {},
    "colab_type": "code",
    "id": "om3l0naREcVr"
   },
   "outputs": [],
   "source": [
    "print(len(titles))\n",
    "print(len(word_token))"
   ]
  },
  {
   "cell_type": "code",
   "execution_count": 0,
   "metadata": {
    "colab": {},
    "colab_type": "code",
    "id": "l7aQ3MKJm1ku"
   },
   "outputs": [],
   "source": [
    "from tensorflow.keras.preprocessing.text import Tokenizer\n",
    "from tensorflow.keras.utils import to_categorical\n",
    "from tensorflow.keras.preprocessing.sequence import pad_sequences"
   ]
  },
  {
   "cell_type": "code",
   "execution_count": 0,
   "metadata": {
    "colab": {},
    "colab_type": "code",
    "id": "BI-wvlb3m1k0"
   },
   "outputs": [],
   "source": [
    "word_vocab = Tokenizer()\n",
    "word_vocab.fit_on_texts(word_token)\n",
    "\n",
    "# 케라스 토크나이저는 띄어쓰기를 기본값으로 토큰화\n",
    "# 이미 토큰화 된 단어를 띄어쓰기 기준으로 토큰\n",
    "# 케라스가 index부여, sequence to text, padding등의 편리한 기능을 제거하기 때문에 사용함"
   ]
  },
  {
   "cell_type": "code",
   "execution_count": 0,
   "metadata": {
    "colab": {},
    "colab_type": "code",
    "id": "sU0ZqFtum1k3"
   },
   "outputs": [],
   "source": [
    "print(len(word_vocab.word_index))\n",
    "print(word_vocab.word_index)"
   ]
  },
  {
   "cell_type": "code",
   "execution_count": 0,
   "metadata": {
    "colab": {},
    "colab_type": "code",
    "id": "-2oyL8sdm1k8"
   },
   "outputs": [],
   "source": [
    "threshold = 3\n",
    "total_cnt = len(word_vocab.word_index) # 단어의 수\n",
    "rare_cnt = 0 # 등장 빈도수가 threshold보다 작은 단어의 개수를 카운트\n",
    "total_freq = 0 # 훈련 데이터의 전체 단어 빈도수 총 합\n",
    "rare_freq = 0 # 등장 빈도수가 threshold보다 작은 단어의 등장 빈도수의 총 합\n",
    "\n",
    "# 단어와 빈도수의 쌍(pair)을 key와 value로 받는다.\n",
    "for key, value in word_vocab.word_counts.items():\n",
    "    total_freq = total_freq + value\n",
    "\n",
    "    # 단어의 등장 빈도수가 threshold보다 작으면\n",
    "    if(value < threshold):\n",
    "        rare_cnt = rare_cnt + 1\n",
    "        rare_freq = rare_freq + value\n",
    "\n",
    "print('단어 집합(vocabulary)의 크기 :',total_cnt)\n",
    "print('등장 빈도가 %s번 이하인 희귀 단어의 수: %s'%(threshold - 1, rare_cnt))\n",
    "print(\"단어 집합에서 희귀 단어의 비율:\", (rare_cnt / total_cnt)*100)\n",
    "print(\"전체 등장 빈도에서 희귀 단어 등장 빈도 비율:\", (rare_freq / total_freq)*100)"
   ]
  },
  {
   "cell_type": "code",
   "execution_count": 0,
   "metadata": {
    "colab": {},
    "colab_type": "code",
    "id": "2UsyZm02m1k_"
   },
   "outputs": [],
   "source": [
    "vocab_size = total_cnt - rare_cnt # 전체 단어 개수 중 빈도수 2이하인 단어 개수는 제거. 0번 패딩 토큰을 고려하여 +1\n",
    "print('단어 집합의 크기 :',vocab_size)"
   ]
  },
  {
   "cell_type": "code",
   "execution_count": 0,
   "metadata": {
    "colab": {},
    "colab_type": "code",
    "id": "6u2Oi93pm1lC"
   },
   "outputs": [],
   "source": [
    "words_frequency = [w for w,c in word_vocab.word_counts.items() if c < 3]\n",
    "# 빈도수가 3미만인 단어를 w라고 저장\n",
    "for w in words_frequency:\n",
    "    del word_vocab.word_index[w]\n",
    "    del word_vocab.word_counts[w]"
   ]
  },
  {
   "cell_type": "code",
   "execution_count": 0,
   "metadata": {
    "colab": {},
    "colab_type": "code",
    "id": "Gt98ip2-m1lE"
   },
   "outputs": [],
   "source": [
    "vocab_list = list(word_vocab.word_index.keys())\n",
    "# 단어 list"
   ]
  },
  {
   "cell_type": "code",
   "execution_count": 0,
   "metadata": {
    "colab": {},
    "colab_type": "code",
    "id": "MvMM1zidm1lG"
   },
   "outputs": [],
   "source": [
    "print(len(vocab_list))"
   ]
  },
  {
   "cell_type": "code",
   "execution_count": 0,
   "metadata": {
    "colab": {},
    "colab_type": "code",
    "id": "bzCeKzs5ms0r"
   },
   "outputs": [],
   "source": [
    "final_token = []\n",
    "for sentence in titles:\n",
    "    temp_X = word_tokenizer.tokenize(sentence, flatten=True) # 토큰화\n",
    "    temp_X = [word for word in temp_X if not word in stop_words] # 불용어 제거\n",
    "    temp_X = [word for word in temp_X if word in vocab_list]\n",
    "    final_token.append(temp_X)\n",
    "    \n",
    "# 정규화, 불용어 삭제, 빈도수 2 이하 삭제 된 토큰을 final token으로 [[],[],[]] 이러 ㄴ형식으로 저장"
   ]
  },
  {
   "cell_type": "code",
   "execution_count": 0,
   "metadata": {
    "colab": {},
    "colab_type": "code",
    "id": "hus_eUmVpezL"
   },
   "outputs": [],
   "source": [
    "len(final_token)"
   ]
  },
  {
   "cell_type": "code",
   "execution_count": 0,
   "metadata": {
    "colab": {},
    "colab_type": "code",
    "id": "VVBfD5Q7mswv"
   },
   "outputs": [],
   "source": [
    "nan_list = []\n",
    "for i in range(len(final_token)):\n",
    "  if len(final_token[i]) == 0:\n",
    "      nan_list.append(i)"
   ]
  },
  {
   "cell_type": "code",
   "execution_count": 0,
   "metadata": {
    "colab": {},
    "colab_type": "code",
    "id": "h-WHNg7cmsvY"
   },
   "outputs": [],
   "source": [
    "nan_list\n",
    "# nan값이 있으면 feature extraction할 때 계산 시 (숫자 / 0)으로 infinitie error가 나기 때문에\n",
    "# nan list를 만들어 차후에 제거해줘야 함"
   ]
  },
  {
   "cell_type": "markdown",
   "metadata": {
    "colab_type": "text",
    "id": "HPDz9Y4utM0l"
   },
   "source": [
    "#### 임베딩"
   ]
  },
  {
   "cell_type": "code",
   "execution_count": 0,
   "metadata": {
    "colab": {},
    "colab_type": "code",
    "id": "nLWqdOYOmss3"
   },
   "outputs": [],
   "source": [
    "from gensim.models import Word2Vec\n",
    "w2v = Word2Vec(sentences = final_token, size = 100, window = 4, min_count = 1, workers = 4,sample=1e-3, iter=5, sg = 1)"
   ]
  },
  {
   "cell_type": "code",
   "execution_count": 0,
   "metadata": {
    "colab": {},
    "colab_type": "code",
    "id": "0cZa4tHcmsrR"
   },
   "outputs": [],
   "source": [
    "from gensim.models import FastText\n",
    "fxt = FastText(sentences = final_token, size = 100, window = 4, min_count = 1, workers = 4,sample=1e-3, iter=5, sg = 1)"
   ]
  },
  {
   "cell_type": "code",
   "execution_count": 0,
   "metadata": {
    "colab": {},
    "colab_type": "code",
    "id": "rgdVQamho-xF"
   },
   "outputs": [],
   "source": [
    "# 글로브는 w2v과 학습 방식이 다르기 때문에 입력 데이터를 재 작업해줘야 하며\n",
    "# 뒤에서는 활용하지 못했음\n",
    "# 토큰화 된 데이터를 다시 글로브에 맞춰서 가공하기 위한 작업\n",
    "glv_sequences = word_vocab.texts_to_sequences(final_token)\n",
    "glv_text = word_vocab.sequences_to_texts(glv_sequences)"
   ]
  },
  {
   "cell_type": "code",
   "execution_count": 0,
   "metadata": {
    "colab": {},
    "colab_type": "code",
    "id": "myefZdSxmslb"
   },
   "outputs": [],
   "source": [
    "glove_token = []\n",
    "for i in range(len(glv_text)):\n",
    "  glove_token.append(glv_text[i].split())"
   ]
  },
  {
   "cell_type": "code",
   "execution_count": 0,
   "metadata": {
    "colab": {},
    "colab_type": "code",
    "id": "Mp4Jga-DmskN"
   },
   "outputs": [],
   "source": [
    "from glove import Corpus, Glove\n",
    "\n",
    "corpus = Corpus() \n",
    "corpus.fit(glove_token, window=4)\n",
    "# 훈련 데이터로부터 GloVe에서 사용할 동시 등장 행렬 생성\n",
    "\n",
    "glv = Glove(no_components=100, learning_rate=0.05)\n",
    "glv.fit(corpus.matrix, epochs=30, no_threads=3, verbose=False)\n",
    "glv.add_dictionary(corpus.dictionary)"
   ]
  },
  {
   "cell_type": "code",
   "execution_count": 0,
   "metadata": {
    "colab": {},
    "colab_type": "code",
    "id": "xkmEUUcwJIPr"
   },
   "outputs": [],
   "source": [
    "# 워드 투 벡터의 명령어 옵션이 매우 다양하기 때문에 직접 탐색해봐야 함\n",
    "# word2vec.wv.vectors 가 우리가 찾고자 하는 벡터들의 값\n",
    "print(w2v.wv.vectors.shape)\n",
    "print(fxt.wv.vectors.shape)\n",
    "print(glv.word_vectors.shape)"
   ]
  },
  {
   "cell_type": "code",
   "execution_count": 0,
   "metadata": {
    "colab": {},
    "colab_type": "code",
    "id": "hFS2NuD_qA5C"
   },
   "outputs": [],
   "source": [
    "len(glv.dictionary.keys()) == len(w2v.wv.index2word)\n",
    "# 글로브와 w2v가 동일한 단어에 대한 동일한 차원을 가지는 걸 보이기 위함"
   ]
  },
  {
   "cell_type": "markdown",
   "metadata": {
    "colab_type": "text",
    "id": "MKM0_5BvtPyo"
   },
   "source": [
    "### 문장의 단어 벡터 평균값으로 특성 구하기"
   ]
  },
  {
   "cell_type": "code",
   "execution_count": 0,
   "metadata": {
    "colab": {},
    "colab_type": "code",
    "id": "Ubsund0mGXUO"
   },
   "outputs": [],
   "source": [
    "def get_features(words, model, num_features):\n",
    "    # 출력 벡터 초기화\n",
    "    feature_vector = np.zeros((num_features), dtype=np.float32)\n",
    "    \n",
    "    num_words = 0\n",
    "    # 어휘 사전 준비\n",
    "    index2word_set = set(model.wv.index2word)\n",
    "    \n",
    "    for w in words:\n",
    "        if w in index2word_set:\n",
    "            num_words = 1\n",
    "            # 사전에 해당하는 단어에 대해 단어 벡터를 더함\n",
    "            feature_vector = np.add(feature_vector, model[w])\n",
    "            \n",
    "    # 문장의 단어 수만큼 나누어 단어 벡터의 평균값을 문장 벡터로 함\n",
    "    feature_vector = np.divide(feature_vector, num_words)\n",
    "    return feature_vector"
   ]
  },
  {
   "cell_type": "code",
   "execution_count": 0,
   "metadata": {
    "colab": {},
    "colab_type": "code",
    "id": "_Lv09r7pGXSK"
   },
   "outputs": [],
   "source": [
    "def get_dataset(reviews, model, num_features):\n",
    "    dataset = list()\n",
    "    \n",
    "    for s in reviews:\n",
    "        dataset.append(get_features(s, model, num_features))\n",
    "        \n",
    "    reviewFeatureVecs = np.stack(dataset)\n",
    "    return reviewFeatureVecs"
   ]
  },
  {
   "cell_type": "code",
   "execution_count": 0,
   "metadata": {
    "colab": {},
    "colab_type": "code",
    "id": "aYXwAVOoGXQ5"
   },
   "outputs": [],
   "source": [
    "data_w2v = get_dataset(final_token,w2v,100)\n",
    "# 전처리 된 데이터를 넣고, 워드 임베딩 벡터와 그 때 압축시킨 차원 값을 넣으면 문장의 특성을 나타내주는 값이 numpy array 형태로 저장됨"
   ]
  },
  {
   "cell_type": "code",
   "execution_count": 0,
   "metadata": {
    "colab": {},
    "colab_type": "code",
    "id": "5oO6WJX-IxxW"
   },
   "outputs": [],
   "source": [
    "data_fxt = get_dataset(final_token,fxt,100)\n",
    "# 글로브는 함수를 새로 만들어야 해서 하지 못했음"
   ]
  },
  {
   "cell_type": "markdown",
   "metadata": {
    "colab_type": "text",
    "id": "Lj6_jYG2EJxD"
   },
   "source": [
    "#### 테스트"
   ]
  },
  {
   "cell_type": "code",
   "execution_count": 0,
   "metadata": {
    "colab": {},
    "colab_type": "code",
    "id": "65uzCCAdH21h"
   },
   "outputs": [],
   "source": [
    "from sklearn.model_selection import train_test_split\n",
    "\n",
    "X = data_w2v              # 문장 feature 가 X 변수가 됨\n",
    "y = np.array(id_num)     # 분리한 label을 array 형태로 바꿈\n",
    "\n",
    "RANDOM_SEED = 42\n",
    "TEST_SPLIT = 0.2\n",
    "\n",
    "X_train, X_test, y_train, y_test = train_test_split(X, y, test_size=TEST_SPLIT, \n",
    "                                                    random_state=RANDOM_SEED)"
   ]
  },
  {
   "cell_type": "code",
   "execution_count": 0,
   "metadata": {
    "colab": {},
    "colab_type": "code",
    "id": "1sYmRVtSH-pC"
   },
   "outputs": [],
   "source": [
    "from sklearn.linear_model import LogisticRegression\n",
    "\n",
    "lgs = LogisticRegression(class_weight='balanced')\n",
    "lgs.fit(X_train, y_train)"
   ]
  },
  {
   "cell_type": "code",
   "execution_count": 0,
   "metadata": {
    "colab": {},
    "colab_type": "code",
    "id": "IgSD5tIhr2Nu"
   },
   "outputs": [],
   "source": [
    "predicted = lgs.predict(X_test)\n",
    "\n",
    "print(\"Accuracy: %f\" % lgs.score(X_test, y_test))  #checking the accuracy"
   ]
  },
  {
   "cell_type": "code",
   "execution_count": 0,
   "metadata": {
    "colab": {},
    "colab_type": "code",
    "id": "Tljm1AdssMmX"
   },
   "outputs": [],
   "source": [
    "from sklearn.svm import SVC\n",
    "from sklearn.metrics import accuracy_score\n",
    "\n",
    "clf = SVC(kernel='linear', C=1.0)\n",
    "clf.fit(X_train,y_train)"
   ]
  },
  {
   "cell_type": "code",
   "execution_count": 0,
   "metadata": {
    "colab": {},
    "colab_type": "code",
    "id": "MZQu-OcnsMk5"
   },
   "outputs": [],
   "source": [
    "y_pred = clf.predict(X_test)"
   ]
  },
  {
   "cell_type": "code",
   "execution_count": 0,
   "metadata": {
    "colab": {},
    "colab_type": "code",
    "id": "2C5BV08YsMjX"
   },
   "outputs": [],
   "source": [
    "accuracy_score(y_test,y_pred)"
   ]
  },
  {
   "cell_type": "code",
   "execution_count": 0,
   "metadata": {
    "colab": {},
    "colab_type": "code",
    "id": "oJr_1XVXsMgw"
   },
   "outputs": [],
   "source": [
    "# 위는 기본 모델에 대한 활용"
   ]
  },
  {
   "cell_type": "markdown",
   "metadata": {
    "colab_type": "text",
    "id": "0YCIBGpytCm1"
   },
   "source": [
    "### 내적으로 특성 구하기\n",
    "\n",
    "이 부분은 성능이 좋지 않아 활용하지 않음\n",
    "단어 - 문서 행렬을 만든 뒤 (TF-IDF에서 하듯 문장이 행이되고 단어가 열이 되는 행렬을 만듦)\n",
    "위에서 구한 word2vec와 같은 임베딩 벡터의 uclid distance를 구한 후 weight를 다시 구함\n",
    "weight와 단어 - 문서 행렬의 내적을 구하여 문장의 특성을 표현하고자 함"
   ]
  },
  {
   "cell_type": "markdown",
   "metadata": {
    "colab_type": "text",
    "id": "lKXmM5H4bT5N"
   },
   "source": [
    "##### DTM만들기"
   ]
  },
  {
   "cell_type": "code",
   "execution_count": 0,
   "metadata": {
    "colab": {},
    "colab_type": "code",
    "id": "-5H5gyzPtbZ-"
   },
   "outputs": [],
   "source": [
    "from sklearn.feature_extraction.text import CountVectorizer"
   ]
  },
  {
   "cell_type": "code",
   "execution_count": 0,
   "metadata": {
    "colab": {},
    "colab_type": "code",
    "id": "4PXmOYnDtbPz"
   },
   "outputs": [],
   "source": [
    "cv = CountVectorizer(tokenizer=word_tokenizer,stop_words=stop_words,vocabulary=vocab_list)"
   ]
  },
  {
   "cell_type": "code",
   "execution_count": 0,
   "metadata": {
    "colab": {},
    "colab_type": "code",
    "id": "mnpKYesmtbIj"
   },
   "outputs": [],
   "source": [
    "tdm = cv.fit_transform(titles).toarray()"
   ]
  },
  {
   "cell_type": "code",
   "execution_count": 0,
   "metadata": {
    "colab": {},
    "colab_type": "code",
    "id": "0oBaqRzbop2k"
   },
   "outputs": [],
   "source": [
    "print(len(cv.get_feature_names()))"
   ]
  },
  {
   "cell_type": "code",
   "execution_count": 0,
   "metadata": {
    "colab": {},
    "colab_type": "code",
    "id": "bc8J5pakt3ds"
   },
   "outputs": [],
   "source": [
    "print(tdm.shape)"
   ]
  },
  {
   "cell_type": "code",
   "execution_count": 0,
   "metadata": {
    "colab": {},
    "colab_type": "code",
    "id": "KoJ6WIgZ83et"
   },
   "outputs": [],
   "source": [
    "tdm"
   ]
  },
  {
   "cell_type": "markdown",
   "metadata": {
    "colab_type": "text",
    "id": "BDI5TU5ibXno"
   },
   "source": [
    "##### 가중치 행렬 구하기"
   ]
  },
  {
   "cell_type": "code",
   "execution_count": 0,
   "metadata": {
    "colab": {},
    "colab_type": "code",
    "id": "qRuaFPXjt3ad"
   },
   "outputs": [],
   "source": [
    "import numpy as np\n",
    "from sklearn.metrics.pairwise import euclidean_distances\n",
    "\n",
    "distance_matrix = euclidean_distances(w2v.wv.vectors, w2v.wv.vectors)\n",
    "wght_w2v = np.exp(-(distance_matrix ** 2) / (2 * np.var(distance_matrix)))"
   ]
  },
  {
   "cell_type": "code",
   "execution_count": 0,
   "metadata": {
    "colab": {},
    "colab_type": "code",
    "id": "u4Vn3eClbw4i"
   },
   "outputs": [],
   "source": [
    "distance_matrix = euclidean_distances(fxt.wv.vectors,fxt.wv.vectors)\n",
    "wght_fxt = np.exp(-(distance_matrix ** 2) / (2 * np.var(distance_matrix)))"
   ]
  },
  {
   "cell_type": "code",
   "execution_count": 0,
   "metadata": {
    "colab": {},
    "colab_type": "code",
    "id": "IVuom9kOcJqG"
   },
   "outputs": [],
   "source": [
    "distance_matrix = euclidean_distances(glv.word_vectors, glv.word_vectors)\n",
    "wght_glv = np.exp(-(distance_matrix ** 2) / (2 * np.var(distance_matrix)))"
   ]
  },
  {
   "cell_type": "code",
   "execution_count": 0,
   "metadata": {
    "colab": {},
    "colab_type": "code",
    "id": "eLhpPPPDwwfB"
   },
   "outputs": [],
   "source": [
    "print(wght_w2v.shape)\n",
    "print(wght_fxt.shape)\n",
    "print(wght_glv.shape)"
   ]
  },
  {
   "cell_type": "markdown",
   "metadata": {
    "colab_type": "text",
    "id": "6pKFProlbaPF"
   },
   "source": [
    "##### 내적"
   ]
  },
  {
   "cell_type": "code",
   "execution_count": 0,
   "metadata": {
    "colab": {},
    "colab_type": "code",
    "id": "XgC9mZ4Njp8V"
   },
   "outputs": [],
   "source": [
    "feat_w2v = np.dot(tdm,wght_w2v)"
   ]
  },
  {
   "cell_type": "code",
   "execution_count": 0,
   "metadata": {
    "colab": {},
    "colab_type": "code",
    "id": "86jy80q1j58n"
   },
   "outputs": [],
   "source": [
    "feat_fxt = np.dot(tdm,wght_fxt)"
   ]
  },
  {
   "cell_type": "code",
   "execution_count": 0,
   "metadata": {
    "colab": {},
    "colab_type": "code",
    "id": "oiP9pey-j56v"
   },
   "outputs": [],
   "source": [
    "feat_glv = np.dot(tdm,wght_glv)"
   ]
  },
  {
   "cell_type": "code",
   "execution_count": 0,
   "metadata": {
    "colab": {},
    "colab_type": "code",
    "id": "Qp4jyCjDvzko"
   },
   "outputs": [],
   "source": [
    "print(feat_w2v.shape)\n",
    "print(feat_fxt.shape)\n",
    "print(feat_glv.shape)"
   ]
  },
  {
   "cell_type": "code",
   "execution_count": 0,
   "metadata": {
    "colab": {},
    "colab_type": "code",
    "id": "2YA9zPmaT7q3"
   },
   "outputs": [],
   "source": [
    "def slower_dot (A, B):\n",
    "    \"\"\"Low-memory implementation of dot product\"\"\"\n",
    "    #Assuming A and B are of the right type and size\n",
    "    R = np.empty([A.shape[0], B.shape[1]])\n",
    "    for i in range(A.shape[0]):\n",
    "        for j in range(B.shape[1]):\n",
    "            R[i,j] = np.dot(A[i,:], B[:,j])\n",
    "    return R"
   ]
  },
  {
   "cell_type": "code",
   "execution_count": 0,
   "metadata": {
    "colab": {},
    "colab_type": "code",
    "id": "MRyEFUN6auUl"
   },
   "outputs": [],
   "source": [
    "#R[0,1] = np.array(np.dot(tdm_32[1,:],weight_matrix_w2v[:,1]))"
   ]
  },
  {
   "cell_type": "code",
   "execution_count": 0,
   "metadata": {
    "colab": {},
    "colab_type": "code",
    "id": "REtfMDFwn5t-"
   },
   "outputs": [],
   "source": [
    "#dotproduct_test = slower_dot(tdm_test_32,test_wght_w2v)"
   ]
  },
  {
   "cell_type": "code",
   "execution_count": 0,
   "metadata": {
    "colab": {},
    "colab_type": "code",
    "id": "bgGqNFVNsZbk"
   },
   "outputs": [],
   "source": [
    "#dotproduct_test.shape"
   ]
  },
  {
   "cell_type": "code",
   "execution_count": 0,
   "metadata": {
    "colab": {},
    "colab_type": "code",
    "id": "um4uxQECvolj"
   },
   "outputs": [],
   "source": [
    "dot_w2v = np.dot(tdm,w2v.wv.vectors)"
   ]
  },
  {
   "cell_type": "code",
   "execution_count": 0,
   "metadata": {
    "colab": {},
    "colab_type": "code",
    "id": "z17VqDeXvohY"
   },
   "outputs": [],
   "source": [
    "dot_fxt = np.dot(tdm,fxt.wv.vectors)"
   ]
  },
  {
   "cell_type": "code",
   "execution_count": 0,
   "metadata": {
    "colab": {},
    "colab_type": "code",
    "id": "bF3DkiQ2vodL"
   },
   "outputs": [],
   "source": [
    "dot_glv = np.dot(tdm,glv.word_vectors)"
   ]
  },
  {
   "cell_type": "code",
   "execution_count": 0,
   "metadata": {
    "colab": {},
    "colab_type": "code",
    "id": "EXA6n6NQv9dz"
   },
   "outputs": [],
   "source": [
    "print(dot_w2v.shape)\n",
    "print(dot_fxt.shape)\n",
    "print(dot_glv.shape)"
   ]
  },
  {
   "cell_type": "code",
   "execution_count": 0,
   "metadata": {
    "colab": {},
    "colab_type": "code",
    "id": "E_aSm30xy4tF"
   },
   "outputs": [],
   "source": [
    "for i in range(len(dot_w2v)):\n",
    "  dot_w2v[i] = dot_w2v[i]/len(dot_w2v[i])"
   ]
  },
  {
   "cell_type": "code",
   "execution_count": 0,
   "metadata": {
    "colab": {},
    "colab_type": "code",
    "id": "dX3iLCy6zvg6"
   },
   "outputs": [],
   "source": [
    "dot_w2v.shape"
   ]
  },
  {
   "cell_type": "markdown",
   "metadata": {
    "colab_type": "text",
    "id": "7W8_YZAducF2"
   },
   "source": [
    "##### 테스트"
   ]
  },
  {
   "cell_type": "code",
   "execution_count": 0,
   "metadata": {
    "colab": {},
    "colab_type": "code",
    "id": "DHTtLUyouwwY"
   },
   "outputs": [],
   "source": [
    "from sklearn.model_selection import train_test_split\n",
    "\n",
    "X = feat_w2v\n",
    "y = np.array(id_num)\n",
    "\n",
    "RANDOM_SEED = 42\n",
    "TEST_SPLIT = 0.2\n",
    "\n",
    "X_train, X_test, y_train, y_test = train_test_split(X, y, test_size=TEST_SPLIT, \n",
    "                                                    random_state=RANDOM_SEED)"
   ]
  },
  {
   "cell_type": "code",
   "execution_count": 0,
   "metadata": {
    "colab": {},
    "colab_type": "code",
    "id": "aPHz1mbWo3UX"
   },
   "outputs": [],
   "source": [
    "from sklearn.feature_extraction.text import CountVectorizer\n",
    "from sklearn.feature_extraction.text import TfidfTransformer\n",
    "from sklearn.naive_bayes import MultinomialNB # 다항분포 나이브 베이즈 모델\n",
    "from sklearn.metrics import accuracy_score #정확도 계산"
   ]
  },
  {
   "cell_type": "code",
   "execution_count": 0,
   "metadata": {
    "colab": {},
    "colab_type": "code",
    "id": "jDURH9gEmcCC"
   },
   "outputs": [],
   "source": [
    "mod = MultinomialNB()\n",
    "mod.fit(X_train,y_train)"
   ]
  },
  {
   "cell_type": "code",
   "execution_count": 0,
   "metadata": {
    "colab": {},
    "colab_type": "code",
    "id": "jgL2t5ZV9sVN"
   },
   "outputs": [],
   "source": [
    "predicted = mod.predict(X_test) #테스트 데이터에 대한 예측"
   ]
  },
  {
   "cell_type": "code",
   "execution_count": 0,
   "metadata": {
    "colab": {},
    "colab_type": "code",
    "id": "3iAld1VvmiX4"
   },
   "outputs": [],
   "source": [
    "print(\"정확도:\", accuracy_score(y_test, predicted)) #예측값과 실제값 비교"
   ]
  },
  {
   "cell_type": "code",
   "execution_count": 0,
   "metadata": {
    "colab": {},
    "colab_type": "code",
    "id": "2Wh0WIMLwQow"
   },
   "outputs": [],
   "source": [
    "from sklearn.model_selection import train_test_split\n",
    "\n",
    "X = dot_w2v\n",
    "y = np.array(id_num)\n",
    "\n",
    "RANDOM_SEED = 42\n",
    "TEST_SPLIT = 0.2\n",
    "\n",
    "X_train, X_test, y_train, y_test = train_test_split(X, y, test_size=TEST_SPLIT, \n",
    "                                                    random_state=RANDOM_SEED)"
   ]
  },
  {
   "cell_type": "code",
   "execution_count": 0,
   "metadata": {
    "colab": {},
    "colab_type": "code",
    "id": "za-uCQSXwQ2R"
   },
   "outputs": [],
   "source": [
    "from sklearn.linear_model import LogisticRegression\n",
    "\n",
    "lgs = LogisticRegression(class_weight='balanced')\n",
    "lgs.fit(X_train, y_train)"
   ]
  },
  {
   "cell_type": "code",
   "execution_count": 0,
   "metadata": {
    "colab": {},
    "colab_type": "code",
    "id": "AnqCVcolwQ2U"
   },
   "outputs": [],
   "source": [
    "predicted = lgs.predict(X_test)\n",
    "\n",
    "print(\"Accuracy: %f\" % lgs.score(X_test, y_test))  #checking the accuracy"
   ]
  },
  {
   "cell_type": "code",
   "execution_count": 0,
   "metadata": {
    "colab": {},
    "colab_type": "code",
    "id": "qTbKjRuuwQ2V"
   },
   "outputs": [],
   "source": [
    "from sklearn.svm import SVC\n",
    "from sklearn.metrics import accuracy_score\n",
    "\n",
    "clf = SVC(kernel='linear', C=1.0)\n",
    "clf.fit(X_train,y_train)"
   ]
  },
  {
   "cell_type": "code",
   "execution_count": 0,
   "metadata": {
    "colab": {},
    "colab_type": "code",
    "id": "AwXMzzp6wQ2X"
   },
   "outputs": [],
   "source": [
    "y_pred = clf.predict(X_test)"
   ]
  },
  {
   "cell_type": "code",
   "execution_count": 0,
   "metadata": {
    "colab": {},
    "colab_type": "code",
    "id": "Bsid7GlVwQ2Y"
   },
   "outputs": [],
   "source": [
    "accuracy_score(y_test,y_pred)"
   ]
  }
 ],
 "metadata": {
  "colab": {
   "collapsed_sections": [
    "9u0PJQQsJfYt",
    "tc3qWSw3JiUi",
    "3TsoLvc-mXFV",
    "hWu6j1lImS1Z",
    "SWfUzVgGJmPJ",
    "HPDz9Y4utM0l",
    "MKM0_5BvtPyo",
    "Lj6_jYG2EJxD",
    "1JOLSismJxFD"
   ],
   "machine_shape": "hm",
   "name": "Text_FeatureExtraction.ipynb",
   "provenance": [],
   "toc_visible": true
  },
  "kernelspec": {
   "display_name": "Python 3",
   "language": "python",
   "name": "python3"
  },
  "language_info": {
   "codemirror_mode": {
    "name": "ipython",
    "version": 3
   },
   "file_extension": ".py",
   "mimetype": "text/x-python",
   "name": "python",
   "nbconvert_exporter": "python",
   "pygments_lexer": "ipython3",
   "version": "3.7.3"
  }
 },
 "nbformat": 4,
 "nbformat_minor": 1
}
